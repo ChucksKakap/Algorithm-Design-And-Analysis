{
 "cells": [
  {
   "cell_type": "markdown",
   "id": "719f3843",
   "metadata": {},
   "source": [
    "## Problem 1 :  Moonbucks is always looking at the possibilities of expanding their business by adding the number of stores around the world. To do this, they need to analyse local economic and social situations to ensure maximum profits. "
   ]
  },
  {
   "cell_type": "code",
   "execution_count": 5,
   "id": "983519b9",
   "metadata": {},
   "outputs": [],
   "source": [
    "# import\n",
    "import pandas as pd\n",
    "import matplotlib.pyplot as plt\n",
    "import numpy as np"
   ]
  },
  {
   "cell_type": "markdown",
   "id": "fd5c36e8",
   "metadata": {},
   "source": [
    "### Parse the text file to the program"
   ]
  },
  {
   "cell_type": "code",
   "execution_count": 6,
   "id": "b26fad73",
   "metadata": {},
   "outputs": [],
   "source": [
    "# READ ARTICLE TEXT FILE\n",
    "\"\"\"----------------------\"\"\"\n",
    "japanFile = open('Japan.txt', 'r', encoding='utf-8')\n",
    "japan = japanFile.read()\n",
    "\n",
    "koreaFile = open(\"Korea.txt\", \"r\", encoding='utf-8')\n",
    "korea = koreaFile.read()\n",
    "\n",
    "malaysiaFile = open(\"Malaysia.txt\", \"r\", encoding='utf-8')\n",
    "malaysia = malaysiaFile.read()\n",
    "\n",
    "franceFile = open(\"France.txt\", \"r\", encoding='utf-8')\n",
    "france = franceFile.read()\n",
    "\n",
    "mexicoFile = open(\"Mexico.txt\", \"r\", encoding='utf-8')\n",
    "mexico = mexicoFile.read()\n",
    "\n",
    "japanFile.close()\n",
    "koreaFile.close()\n",
    "malaysiaFile.close()\n",
    "franceFile.close()\n",
    "mexicoFile.close()\n",
    "\n",
    "# separate articles by 5 lines\n",
    "list_of_countries = [japan, korea, malaysia, france, mexico]\n",
    "number_of_countries = len(list_of_countries)\n",
    "number_of_articles = 5\n",
    "articles = [txt for txt in list_of_countries]\n",
    "\n",
    "i = 0\n",
    "for country in list_of_countries:\n",
    "    x = country.split(\"$pl1tT3XT%\")\n",
    "    articles[i] = x\n",
    "    i += 1\n",
    "# articles[0][1] >>> atricle for list_of_countries[0], article number 2\n",
    "\n",
    "\n",
    "# INITIALIZE WORDS\n",
    "\"\"\"----------------------\"\"\"\n",
    "# get the positive words and negative words and the neutral words\n",
    "positiveFile = open(\"Positive_words.txt\", \"r\", encoding='utf-8')\n",
    "positive = positiveFile.read().lower().split(\", \")\n",
    "negativeFile = open(\"Negative_words.txt\", \"r\", encoding='utf-8')\n",
    "negative = negativeFile.read().lower().split(\", \")\n",
    "\n",
    "\n",
    "# get the stop words\n",
    "stop_word_file = open(\"stop word.txt\", \"r\", encoding='utf-8')\n",
    "stop_word = stop_word_file.read().split()\n",
    "stop_word_file.close()\n",
    "# stop_word\n",
    "\n",
    "# get punctuation,numbers,special characters\n",
    "specialCharFile = open(\"special characters.txt\", \"r\", encoding='utf-8')\n",
    "specialChar = specialCharFile.read().split()\n",
    "specialCharFile.close()"
   ]
  },
  {
   "cell_type": "markdown",
   "id": "1ef5593c",
   "metadata": {},
   "source": [
    "### Clean the article"
   ]
  },
  {
   "cell_type": "code",
   "execution_count": 7,
   "id": "03ce909b",
   "metadata": {},
   "outputs": [],
   "source": [
    "# CLEAN THE ARTICLE\n",
    "\"\"\"----------------------\"\"\"\n",
    "# remove specialChar\n",
    "for countries in range(number_of_countries):\n",
    "    for article in range(number_of_articles):\n",
    "        replacedStr = articles[countries][article]\n",
    "        for i in specialChar:\n",
    "            replacedStr = replacedStr.replace(i, '')\n",
    "        articles[countries][article] = replacedStr.lower()\n",
    "\n",
    "# remove unwanted text pattern\n",
    "for countries in range(number_of_countries-1):\n",
    "    for article in range(number_of_articles-1):\n",
    "        words = articles[countries][article].split()\n",
    "        replacedStr = [word for word in words if word not in stop_word]\n",
    "#         articles[countries][article] = \" \".join(replacedStr)"
   ]
  },
  {
   "cell_type": "markdown",
   "id": "f8114058",
   "metadata": {},
   "source": [
    "### analyze the text\n"
   ]
  },
  {
   "cell_type": "code",
   "execution_count": 8,
   "id": "d76fa685",
   "metadata": {},
   "outputs": [],
   "source": [
    "# ANALYZE\n",
    "\"\"\"----------------------\"\"\"\n",
    "# word count\n",
    "# String Matching Algo : TRIES\n",
    "\n",
    "# TRIE algorthm\n",
    "class Node:\n",
    "    def __init__(self, value=None, isComplete=False):\n",
    "        self.isComplete = isComplete\n",
    "        self.children = {}\n",
    "        self.value = value\n",
    "        self.isPrefixOf = 0\n",
    "\n",
    "\n",
    "class Trie:\n",
    "    def __init__(self):\n",
    "        self.root = Node()\n",
    "\n",
    "    def add_word(self, word):\n",
    "        \"\"\"\n",
    "        Add the given word into the trie\n",
    "        :param word: A String (word) to be added in the trie\n",
    "        \"\"\"\n",
    "        chars = list(word)\n",
    "\n",
    "        curr_node = self.root\n",
    "\n",
    "        for ch in chars:\n",
    "            # The substring till this node will now become a prefix of newly added word\n",
    "            curr_node.isPrefixOf += 1\n",
    "\n",
    "            if ch in curr_node.children:\n",
    "                curr_node = curr_node.children[ch]\n",
    "            else:\n",
    "                new_node = Node(value=ch)\n",
    "                curr_node.children[ch] = new_node\n",
    "                curr_node = new_node\n",
    "\n",
    "        curr_node.isComplete = True\n",
    "\n",
    "    def search(self, word):\n",
    "        \"\"\"\n",
    "        Searches if the word is present in the Trie or not\n",
    "        :param word: String (word) to be searched in the trie\n",
    "        :return: last Node of the searched word if present else None\n",
    "        \"\"\"\n",
    "        chars = list(word)\n",
    "\n",
    "        curr_node = self.root\n",
    "\n",
    "        for ch in chars:\n",
    "            if ch in curr_node.children:\n",
    "                curr_node = curr_node.children[ch]\n",
    "            else:\n",
    "                return False\n",
    "\n",
    "        if curr_node.isComplete is True:\n",
    "            return True\n",
    "\n",
    "        return False\n",
    "\n",
    "    def delete(self, word):\n",
    "        \"\"\"\n",
    "        Deletes the given String (word) from the trie\n",
    "        :param word: Word (String) to be deleted\n",
    "        :return: True is deleted, False if word not present in the Trie\n",
    "        \"\"\"\n",
    "        chars = list(word)\n",
    "        n = len(chars)\n",
    "\n",
    "        val = self._delete(self.root, word)\n",
    "        return True if val == 1 or val == 0 else False\n",
    "\n",
    "    def _delete(self, node, chars):\n",
    "        \"\"\"\n",
    "        Recursive Helper function to delete the word and decreement the isPrefix of values\n",
    "        :param node: current node looking at\n",
    "        :param chars: array of characters to look for\n",
    "        :return: 1 is word is deleted, 0 if word is deleted and\n",
    "        \"\"\"\n",
    "\n",
    "        # if the chars array is empty\n",
    "        if len(chars) == 0:\n",
    "            # check if the word is present in the trie\n",
    "            if node.isComplete:\n",
    "                node.isComplete = False\n",
    "\n",
    "                # check if the word was a prefix of any other words in trie\n",
    "                # if so, decrement isPrefixOf and return 0, as no deletions are required\n",
    "                if len(node.children.keys()) > 0:\n",
    "                    node.isPrefixOf -= 1\n",
    "                    return 0\n",
    "\n",
    "                # if word was not a prefix then we need to go up in the trie\n",
    "                # and find the lowest parent which forms a new word in trie\n",
    "                return 1\n",
    "            # if word is not present in the trie\n",
    "            return -1\n",
    "\n",
    "        # check if the character is present in current node's children\n",
    "        if chars[0] in node.children:\n",
    "            # recursive call for remaining characters in the respective child\n",
    "            val = self._delete(node.children[chars[0]], chars[1:])\n",
    "\n",
    "            # if word was found but lowest parent which forms new word is not found\n",
    "            if val == 1:\n",
    "                if node.isComplete or len(node.children.keys()) > 1:\n",
    "                    del node.children[chars[0]]\n",
    "                    node.isPrefixOf -= 1\n",
    "                    val = 0\n",
    "            # if word was found and lowest parent which forms new word was also found\n",
    "            # simply reduce the isPrefixOf value of the node\n",
    "            elif val == 0:\n",
    "                node.isPrefixOf -= 1\n",
    "            return val\n",
    "\n",
    "        return -1"
   ]
  },
  {
   "cell_type": "code",
   "execution_count": 11,
   "id": "206e2758",
   "metadata": {},
   "outputs": [],
   "source": [
    "goodWordDictionary = Trie()\n",
    "badWordDictionary = Trie()\n",
    "\n",
    "\n",
    "for gword in positive:\n",
    "    goodWordDictionary.add_word(gword)\n",
    "    \n",
    "for bword in negative:\n",
    "    badWordDictionary.add_word(bword)"
   ]
  },
  {
   "cell_type": "code",
   "execution_count": 12,
   "id": "5d4feef4",
   "metadata": {},
   "outputs": [],
   "source": [
    "countryName = {'Country':['Japan', 'Korea', 'Malaysia', 'France', 'Mexico']}\n",
    "data = pd.DataFrame(countryName)"
   ]
  },
  {
   "cell_type": "code",
   "execution_count": 13,
   "id": "f7e5bb37",
   "metadata": {},
   "outputs": [],
   "source": [
    "# count the word\n",
    "totalGWordFrequency = [0, 0, 0, 0, 0]\n",
    "totalBWordFrequency = [0, 0, 0, 0, 0]\n",
    "byArticleWordCountG = [[0, 0, 0, 0, 0],[0, 0, 0, 0, 0],[0, 0, 0, 0, 0],[0, 0, 0, 0, 0],[0, 0, 0, 0, 0]]\n",
    "byArticleWordCountB = [[0, 0, 0, 0, 0],[0, 0, 0, 0, 0],[0, 0, 0, 0, 0],[0, 0, 0, 0, 0],[0, 0, 0, 0, 0]]\n",
    "wordCount = [[0, 0, 0, 0, 0],[0, 0, 0, 0, 0],[0, 0, 0, 0, 0],[0, 0, 0, 0, 0],[0, 0, 0, 0, 0]] # for analysis\n",
    "\n",
    "for i in range(number_of_countries):\n",
    "    for j in range(number_of_articles):\n",
    "        wordCount[i][j] = len(articles[i][j])\n",
    "        for words in articles[i][j].split():\n",
    "            wordCount\n",
    "            if goodWordDictionary.search(words) == True:\n",
    "                totalGWordFrequency[i] += 1\n",
    "                byArticleWordCountG[i][j] += 1\n",
    "            elif badWordDictionary.search(words) == True:\n",
    "                totalBWordFrequency[i] += 1\n",
    "                byArticleWordCountB[i][j] += 1\n",
    "            else:\n",
    "                continue\n",
    "                \n",
    "data['Good'] = totalGWordFrequency\n",
    "data['Bad'] = totalBWordFrequency\n",
    "data['byArticleWordCountG'] = byArticleWordCountG\n",
    "data['byArticleWordCountB'] = byArticleWordCountB"
   ]
  },
  {
   "cell_type": "code",
   "execution_count": 14,
   "id": "9433b38a",
   "metadata": {},
   "outputs": [
    {
     "data": {
      "text/html": [
       "<div>\n",
       "<style scoped>\n",
       "    .dataframe tbody tr th:only-of-type {\n",
       "        vertical-align: middle;\n",
       "    }\n",
       "\n",
       "    .dataframe tbody tr th {\n",
       "        vertical-align: top;\n",
       "    }\n",
       "\n",
       "    .dataframe thead th {\n",
       "        text-align: right;\n",
       "    }\n",
       "</style>\n",
       "<table border=\"1\" class=\"dataframe\">\n",
       "  <thead>\n",
       "    <tr style=\"text-align: right;\">\n",
       "      <th></th>\n",
       "      <th>Country</th>\n",
       "      <th>Good</th>\n",
       "      <th>Bad</th>\n",
       "      <th>byArticleWordCountG</th>\n",
       "      <th>byArticleWordCountB</th>\n",
       "    </tr>\n",
       "  </thead>\n",
       "  <tbody>\n",
       "    <tr>\n",
       "      <th>0</th>\n",
       "      <td>Japan</td>\n",
       "      <td>233</td>\n",
       "      <td>122</td>\n",
       "      <td>[25, 45, 106, 6, 51]</td>\n",
       "      <td>[16, 24, 53, 4, 25]</td>\n",
       "    </tr>\n",
       "    <tr>\n",
       "      <th>1</th>\n",
       "      <td>Korea</td>\n",
       "      <td>137</td>\n",
       "      <td>58</td>\n",
       "      <td>[18, 21, 39, 18, 41]</td>\n",
       "      <td>[6, 9, 10, 17, 16]</td>\n",
       "    </tr>\n",
       "    <tr>\n",
       "      <th>2</th>\n",
       "      <td>Malaysia</td>\n",
       "      <td>134</td>\n",
       "      <td>67</td>\n",
       "      <td>[24, 15, 16, 35, 44]</td>\n",
       "      <td>[17, 4, 18, 19, 9]</td>\n",
       "    </tr>\n",
       "    <tr>\n",
       "      <th>3</th>\n",
       "      <td>France</td>\n",
       "      <td>271</td>\n",
       "      <td>101</td>\n",
       "      <td>[15, 154, 22, 50, 30]</td>\n",
       "      <td>[9, 69, 9, 10, 4]</td>\n",
       "    </tr>\n",
       "    <tr>\n",
       "      <th>4</th>\n",
       "      <td>Mexico</td>\n",
       "      <td>60</td>\n",
       "      <td>22</td>\n",
       "      <td>[15, 15, 8, 15, 7]</td>\n",
       "      <td>[5, 3, 5, 7, 2]</td>\n",
       "    </tr>\n",
       "  </tbody>\n",
       "</table>\n",
       "</div>"
      ],
      "text/plain": [
       "    Country  Good  Bad    byArticleWordCountG  byArticleWordCountB\n",
       "0     Japan   233  122   [25, 45, 106, 6, 51]  [16, 24, 53, 4, 25]\n",
       "1     Korea   137   58   [18, 21, 39, 18, 41]   [6, 9, 10, 17, 16]\n",
       "2  Malaysia   134   67   [24, 15, 16, 35, 44]   [17, 4, 18, 19, 9]\n",
       "3    France   271  101  [15, 154, 22, 50, 30]    [9, 69, 9, 10, 4]\n",
       "4    Mexico    60   22     [15, 15, 8, 15, 7]      [5, 3, 5, 7, 2]"
      ]
     },
     "execution_count": 14,
     "metadata": {},
     "output_type": "execute_result"
    }
   ],
   "source": [
    "data\n"
   ]
  },
  {
   "cell_type": "markdown",
   "id": "7d0dfa60",
   "metadata": {},
   "source": [
    "### Visualization"
   ]
  },
  {
   "cell_type": "code",
   "execution_count": 15,
   "id": "76983a8e",
   "metadata": {},
   "outputs": [
    {
     "data": {
      "image/png": "[encoded data removed]",
      "text/plain": [
       "<Figure size 1080x360 with 2 Axes>"
      ]
     },
     "metadata": {
      "needs_background": "light"
     },
     "output_type": "display_data"
    }
   ],
   "source": [
    "# Total GOOD or BAD Word count visualization \n",
    "countryNames = ['JAPAN', 'KOREA', 'MALAYSIA', 'FRANCE', 'MEXICO']\n",
    "\n",
    "plt.figure(figsize=(15, 5))\n",
    "\n",
    "plt.subplot(131)\n",
    "plt.plot(countryNames, data['Good'],'ro' , color = 'b')\n",
    "plt.subplot(132)\n",
    "plt.plot(countryNames, data['Bad'], 'ro', color='r')\n",
    "plt.suptitle('Total Word Count')\n",
    "plt.show()"
   ]
  },
  {
   "cell_type": "code",
   "execution_count": 16,
   "id": "0e35bea2",
   "metadata": {},
   "outputs": [
    {
     "data": {
      "image/png": "[encoded data removed]",
      "text/plain": [
       "<Figure size 2160x576 with 1 Axes>"
      ]
     },
     "metadata": {
      "needs_background": "light"
     },
     "output_type": "display_data"
    }
   ],
   "source": [
    "# GOOD or BAD Word Count per article visualization \n",
    "# # set width of bar\n",
    "barWidth = 0.15\n",
    "fig = plt.subplots(figsize =(30, 8))\n",
    " \n",
    "# set height of bar\n",
    "# articlesJapan = data['byArticleWordCountG'][0]\n",
    " \n",
    "# Set position of bar on X axis\n",
    "br1 = np.arange(number_of_articles)\n",
    "br2 = [x + barWidth for x in br1]\n",
    "br3 = [x + barWidth for x in br2]\n",
    "br4 = [x + barWidth for x in br3]\n",
    "br5 = [x + barWidth for x in br4]\n",
    " \n",
    "# Make the good word count plot\n",
    "plt.bar(br1, data['byArticleWordCountG'][0], color ='darkgoldenrod', width = barWidth,\n",
    "        edgecolor ='grey', label ='Japan')\n",
    "plt.bar(br2, data['byArticleWordCountG'][1], color ='rosybrown', width = barWidth,\n",
    "        edgecolor ='grey', label ='Korea')\n",
    "plt.bar(br3, data['byArticleWordCountG'][2], color ='orange', width = barWidth,\n",
    "        edgecolor ='grey', label ='Malaysia')\n",
    "plt.bar(br4, data['byArticleWordCountG'][3], color ='darkgrey', width = barWidth,\n",
    "        edgecolor ='grey', label ='France')\n",
    "plt.bar(br5, data['byArticleWordCountG'][4], color ='gold', width = barWidth,\n",
    "        edgecolor ='grey', label ='Mexico')\n",
    " \n",
    "# Adding Xticks\n",
    "plt.xlabel('Country', fontweight ='bold', fontsize = 15)\n",
    "plt.ylabel('Good Words Count', fontweight ='bold', fontsize = 15)\n",
    "plt.xticks([r + barWidth for r in range(len(br1))],\n",
    "        ['Japan', 'Korea', 'Malaysia', 'France', 'Mexico'])\n",
    " \n",
    "plt.legend()\n",
    "plt.show()"
   ]
  },
  {
   "cell_type": "code",
   "execution_count": 17,
   "id": "84fd2bf4",
   "metadata": {},
   "outputs": [
    {
     "data": {
      "image/png": "[encoded data removed]",
      "text/plain": [
       "<Figure size 2160x576 with 1 Axes>"
      ]
     },
     "metadata": {
      "needs_background": "light"
     },
     "output_type": "display_data"
    }
   ],
   "source": [
    "# # set width of bar\n",
    "barWidth = 0.15\n",
    "fig = plt.subplots(figsize =(30, 8))\n",
    "# Make the Bad Word Count plot\n",
    "plt.bar(br1, data['byArticleWordCountB'][0], color ='darkgoldenrod', width = barWidth,\n",
    "        edgecolor ='grey', label ='Japan')\n",
    "plt.bar(br2, data['byArticleWordCountB'][1], color ='rosybrown', width = barWidth,\n",
    "        edgecolor ='grey', label ='Korea')\n",
    "plt.bar(br3, data['byArticleWordCountB'][2], color ='orange', width = barWidth,\n",
    "        edgecolor ='grey', label ='Malaysia')\n",
    "plt.bar(br4, data['byArticleWordCountB'][3], color ='darkgrey', width = barWidth,\n",
    "        edgecolor ='grey', label ='France')\n",
    "plt.bar(br5, data['byArticleWordCountB'][4], color ='gold', width = barWidth,\n",
    "        edgecolor ='grey', label ='Mexico')\n",
    " \n",
    "# Adding Xticks\n",
    "plt.xlabel('Country', fontweight ='bold', fontsize = 15)\n",
    "plt.ylabel('Bad Words Count', fontweight ='bold', fontsize = 15)\n",
    "plt.xticks([r + barWidth for r in range(len(br1))],\n",
    "        ['Japan', 'Korea', 'Malaysia', 'France', 'Mexico'])\n",
    " \n",
    "plt.legend()\n",
    "plt.show()"
   ]
  },
  {
   "cell_type": "markdown",
   "id": "ff43899c",
   "metadata": {},
   "source": [
    "### Conclusion"
   ]
  },
  {
   "cell_type": "code",
   "execution_count": 18,
   "id": "c3341d04",
   "metadata": {},
   "outputs": [],
   "source": [
    "# 1. By determining the average word count ratio for each country\n",
    "# word count / good word count (WCGW) ratios and its average (has 10 multiplier : byArticleWordCountGood/wordCount * 10 )\n",
    "WCGW = [[data['byArticleWordCountG'][i][j]/wordCount[i][j] * 10 if data['byArticleWordCountG'][i][j] != 0 else 0 for j in range(number_of_articles)] for i in range(number_of_countries)]\n",
    "WCBW = [[data['byArticleWordCountB'][i][j]/wordCount[i][j] * 10 if data['byArticleWordCountB'][i][j] != 0 else 0 for j in range(number_of_articles)] for i in range(number_of_countries)]\n",
    "aveWCGW = [sum(WCGW[i])/number_of_articles for i in range(5)]\n",
    "aveWCBW = [sum(WCBW[i])/number_of_articles for i in range(5)]"
   ]
  },
  {
   "cell_type": "code",
   "execution_count": 19,
   "id": "e5c65c6b",
   "metadata": {},
   "outputs": [
    {
     "data": {
      "image/png": "[encoded data removed]",
      "text/plain": [
       "<Figure size 1080x360 with 2 Axes>"
      ]
     },
     "metadata": {
      "needs_background": "light"
     },
     "output_type": "display_data"
    }
   ],
   "source": [
    "plt.figure(figsize=(15, 5))\n",
    "\n",
    "plt.suptitle('Word Count Ratio')\n",
    "plt.subplot(131)\n",
    "plt.bar(countryNames, aveWCGW, color = 'b')\n",
    "plt.subplot(132)\n",
    "plt.bar(countryNames, aveWCBW, color='r')\n",
    "\n",
    "plt.show()"
   ]
  },
  {
   "cell_type": "code",
   "execution_count": 20,
   "id": "727693ca",
   "metadata": {},
   "outputs": [
    {
     "data": {
      "text/plain": [
       "0.0969409737182249"
      ]
     },
     "execution_count": 20,
     "metadata": {},
     "output_type": "execute_result"
    }
   ],
   "source": [
    "WCGW[0][1]"
   ]
  },
  {
   "cell_type": "code",
   "execution_count": 21,
   "id": "a9d0e767",
   "metadata": {},
   "outputs": [
    {
     "data": {
      "text/plain": [
       "0.05170185264971995"
      ]
     },
     "execution_count": 21,
     "metadata": {},
     "output_type": "execute_result"
    }
   ],
   "source": [
    "WCBW[0][1] "
   ]
  },
  {
   "cell_type": "markdown",
   "id": "0203a4bd",
   "metadata": {},
   "source": [
    "##### based on this graph,"
   ]
  },
  {
   "cell_type": "code",
   "execution_count": 23,
   "id": "af7ae680",
   "metadata": {},
   "outputs": [
    {
     "data": {
      "text/plain": [
       "[[True, True, True, True, True],\n",
       " [True, True, True, True, True],\n",
       " [True, True, False, True, True],\n",
       " [True, True, True, True, True],\n",
       " [True, True, True, True, True]]"
      ]
     },
     "execution_count": 23,
     "metadata": {},
     "output_type": "execute_result"
    }
   ],
   "source": [
    "# 2. By determining the sentiment given by an article of a country\n",
    "articleSentiments = [[True if WCGW[i][j] > WCBW[i][j] else False for j in range(number_of_articles)] for i in range(number_of_countries)]\n",
    "articleSentiments"
   ]
  },
  {
   "cell_type": "code",
   "execution_count": 17,
   "id": "ec535484",
   "metadata": {},
   "outputs": [],
   "source": [
    "# every article in each country giving a positive sentiment to the public\n"
   ]
  }
 ],
 "metadata": {
  "kernelspec": {
   "display_name": "Python 3",
   "language": "python",
   "name": "python3"
  },
  "language_info": {
   "codemirror_mode": {
    "name": "ipython",
    "version": 3
   },
   "file_extension": ".py",
   "mimetype": "text/x-python",
   "name": "python",
   "nbconvert_exporter": "python",
   "pygments_lexer": "ipython3",
   "version": "3.8.8"
  }
 },
 "nbformat": 4,
 "nbformat_minor": 5
}
