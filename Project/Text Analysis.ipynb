{
 "cells": [
  {
   "cell_type": "markdown",
   "id": "719f3843",
   "metadata": {},
   "source": [
    "## Problem 1 :  Moonbucks is always looking at the possibilities of expanding their business by adding the number of stores around the world. To do this, they need to analyse local economic and social situations to ensure maximum profits. "
   ]
  },
  {
   "cell_type": "code",
<<<<<<< HEAD
   "execution_count": 1,
=======
   "execution_count": 341,
>>>>>>> 92834599919a7013012a7a9a56191db85188f252
   "id": "983519b9",
   "metadata": {},
   "outputs": [],
   "source": [
    "# import\n",
    "import pandas as pd\n",
    "import matplotlib.pyplot as plt\n",
    "import numpy as np"
   ]
  },
  {
   "cell_type": "markdown",
   "id": "fd5c36e8",
   "metadata": {},
   "source": [
    "### Parse the text file to the program"
   ]
  },
  {
   "cell_type": "code",
<<<<<<< HEAD
   "execution_count": 2,
=======
   "execution_count": 342,
>>>>>>> 92834599919a7013012a7a9a56191db85188f252
   "id": "b26fad73",
   "metadata": {},
   "outputs": [],
   "source": [
    "# READ ARTICLE TEXT FILE\n",
    "\"\"\"----------------------\"\"\"\n",
    "japanFile = open('Japan.txt', 'r', encoding='utf-8')\n",
    "japan = japanFile.read()\n",
    "\n",
    "koreaFile = open(\"Korea.txt\", \"r\", encoding='utf-8')\n",
    "korea = koreaFile.read()\n",
    "\n",
    "malaysiaFile = open(\"Malaysia.txt\", \"r\", encoding='utf-8')\n",
    "malaysia = malaysiaFile.read()\n",
    "\n",
    "uaeFile = open(\"UAE.txt\", \"r\", encoding='utf-8')\n",
    "uae = uaeFile.read()\n",
    "\n",
<<<<<<< HEAD
    "mexicoFile = open(\"Mexico.txt\", \"r\", encoding='utf-8')\n",
    "mexico = mexicoFile.read()\n",
=======
    "usaFile = open(\"USA.txt\", \"r\", encoding='utf-8')\n",
    "usa = usaFile.read()\n",
>>>>>>> 92834599919a7013012a7a9a56191db85188f252
    "\n",
    "japanFile.close()\n",
    "koreaFile.close()\n",
    "malaysiaFile.close()\n",
    "uaeFile.close()\n",
<<<<<<< HEAD
    "mexicoFile.close()\n",
    "\n",
    "# separate articles by 5 lines\n",
    "list_of_countries = [japan, korea, malaysia, uae, mexico]\n",
=======
    "usaFile.close()\n",
    "\n",
    "# separate articles by 5 lines\n",
    "list_of_countries = [japan, korea, malaysia, uae, usa]\n",
>>>>>>> 92834599919a7013012a7a9a56191db85188f252
    "number_of_countries = len(list_of_countries)\n",
    "number_of_articles = 5\n",
    "articles = [txt for txt in list_of_countries]\n",
    "\n",
    "i = 0\n",
    "for country in list_of_countries:\n",
    "    x = country.split(\"$pl1tT3XT%\")\n",
    "    articles[i] = x\n",
    "    i += 1\n",
    "# articles[0][1] >>> atricle for list_of_countries[0], article number 2\n",
    "\n",
    "\n",
    "# INITIALIZE WORDS\n",
    "\"\"\"----------------------\"\"\"\n",
    "# get the positive words and negative words and the neutral words\n",
    "positiveFile = open(\"Positive_words.txt\", \"r\", encoding='utf-8')\n",
    "positive = positiveFile.read().lower().split(\", \")\n",
    "negativeFile = open(\"Negative_words.txt\", \"r\", encoding='utf-8')\n",
    "negative = negativeFile.read().lower().split(\", \")\n",
    "\n",
    "\n",
    "# get the stop words\n",
    "stop_word_file = open(\"stop word.txt\", \"r\", encoding='utf-8')\n",
    "stop_word = stop_word_file.read().split()\n",
    "stop_word_file.close()\n",
    "# stop_word\n",
    "\n",
    "# get punctuation,numbers,special characters\n",
    "specialCharFile = open(\"special characters.txt\", \"r\", encoding='utf-8')\n",
    "specialChar = specialCharFile.read().split()\n",
    "specialCharFile.close()"
   ]
  },
  {
   "cell_type": "markdown",
   "id": "1ef5593c",
   "metadata": {},
   "source": [
    "### Clean the article"
   ]
  },
  {
   "cell_type": "code",
<<<<<<< HEAD
   "execution_count": 3,
=======
   "execution_count": 343,
>>>>>>> 92834599919a7013012a7a9a56191db85188f252
   "id": "03ce909b",
   "metadata": {},
   "outputs": [],
   "source": [
    "# CLEAN THE ARTICLE\n",
    "\"\"\"----------------------\"\"\"\n",
    "# remove specialChar\n",
    "for countries in range(number_of_countries):\n",
    "    for article in range(number_of_articles):\n",
    "        replacedStr = articles[countries][article]\n",
    "        for i in specialChar:\n",
    "            replacedStr = replacedStr.replace(i, '')\n",
    "        articles[countries][article] = replacedStr.lower()\n",
    "\n",
    "# remove unwanted text pattern\n",
    "for countries in range(number_of_countries-1):\n",
    "    for article in range(number_of_articles-1):\n",
    "        words = articles[countries][article].split()\n",
    "        replacedStr = [word for word in words if word not in stop_word]\n",
    "#         articles[countries][article] = \" \".join(replacedStr)"
   ]
  },
  {
   "cell_type": "markdown",
   "id": "f8114058",
   "metadata": {},
   "source": [
    "### analyze the text\n"
   ]
  },
  {
   "cell_type": "code",
<<<<<<< HEAD
   "execution_count": 4,
=======
   "execution_count": 344,
>>>>>>> 92834599919a7013012a7a9a56191db85188f252
   "id": "d76fa685",
   "metadata": {},
   "outputs": [],
   "source": [
    "# ANALYZE\n",
    "\"\"\"----------------------\"\"\"\n",
    "# word count\n",
    "# String Matching Algo : TRIES\n",
    "\n",
    "# TRIE algorthm\n",
    "class Node:\n",
    "    def __init__(self, value=None, isComplete=False):\n",
    "        self.isComplete = isComplete\n",
    "        self.children = {}\n",
    "        self.value = value\n",
    "        self.isPrefixOf = 0\n",
    "\n",
    "\n",
    "class Trie:\n",
    "    def __init__(self):\n",
    "        self.root = Node()\n",
    "\n",
    "    def add_word(self, word):\n",
    "        \"\"\"\n",
    "        Add the given word into the trie\n",
    "        :param word: A String (word) to be added in the trie\n",
    "        \"\"\"\n",
    "        chars = list(word)\n",
    "\n",
    "        curr_node = self.root\n",
    "\n",
    "        for ch in chars:\n",
    "            # The substring till this node will now become a prefix of newly added word\n",
    "            curr_node.isPrefixOf += 1\n",
    "\n",
    "            if ch in curr_node.children:\n",
    "                curr_node = curr_node.children[ch]\n",
    "            else:\n",
    "                new_node = Node(value=ch)\n",
    "                curr_node.children[ch] = new_node\n",
    "                curr_node = new_node\n",
    "\n",
    "        curr_node.isComplete = True\n",
    "\n",
    "    def search(self, word):\n",
    "        \"\"\"\n",
    "        Searches if the word is present in the Trie or not\n",
    "        :param word: String (word) to be searched in the trie\n",
    "        :return: last Node of the searched word if present else None\n",
    "        \"\"\"\n",
    "        chars = list(word)\n",
    "\n",
    "        curr_node = self.root\n",
    "\n",
    "        for ch in chars:\n",
    "            if ch in curr_node.children:\n",
    "                curr_node = curr_node.children[ch]\n",
    "            else:\n",
    "                return False\n",
    "\n",
    "        if curr_node.isComplete is True:\n",
    "            return True\n",
    "\n",
    "        return False\n",
    "\n",
    "    def delete(self, word):\n",
    "        \"\"\"\n",
    "        Deletes the given String (word) from the trie\n",
    "        :param word: Word (String) to be deleted\n",
    "        :return: True is deleted, False if word not present in the Trie\n",
    "        \"\"\"\n",
    "        chars = list(word)\n",
    "        n = len(chars)\n",
    "\n",
    "        val = self._delete(self.root, word)\n",
    "        return True if val == 1 or val == 0 else False\n",
    "\n",
    "    def _delete(self, node, chars):\n",
    "        \"\"\"\n",
    "        Recursive Helper function to delete the word and decreement the isPrefix of values\n",
    "        :param node: current node looking at\n",
    "        :param chars: array of characters to look for\n",
    "        :return: 1 is word is deleted, 0 if word is deleted and\n",
    "        \"\"\"\n",
    "\n",
    "        # if the chars array is empty\n",
    "        if len(chars) == 0:\n",
    "            # check if the word is present in the trie\n",
    "            if node.isComplete:\n",
    "                node.isComplete = False\n",
    "\n",
    "                # check if the word was a prefix of any other words in trie\n",
    "                # if so, decrement isPrefixOf and return 0, as no deletions are required\n",
    "                if len(node.children.keys()) > 0:\n",
    "                    node.isPrefixOf -= 1\n",
    "                    return 0\n",
    "\n",
    "                # if word was not a prefix then we need to go up in the trie\n",
    "                # and find the lowest parent which forms a new word in trie\n",
    "                return 1\n",
    "            # if word is not present in the trie\n",
    "            return -1\n",
    "\n",
    "        # check if the character is present in current node's children\n",
    "        if chars[0] in node.children:\n",
    "            # recursive call for remaining characters in the respective child\n",
    "            val = self._delete(node.children[chars[0]], chars[1:])\n",
    "\n",
    "            # if word was found but lowest parent which forms new word is not found\n",
    "            if val == 1:\n",
    "                if node.isComplete or len(node.children.keys()) > 1:\n",
    "                    del node.children[chars[0]]\n",
    "                    node.isPrefixOf -= 1\n",
    "                    val = 0\n",
    "            # if word was found and lowest parent which forms new word was also found\n",
    "            # simply reduce the isPrefixOf value of the node\n",
    "            elif val == 0:\n",
    "                node.isPrefixOf -= 1\n",
    "            return val\n",
    "\n",
    "        return -1"
   ]
  },
  {
   "cell_type": "code",
<<<<<<< HEAD
   "execution_count": 5,
=======
   "execution_count": 345,
>>>>>>> 92834599919a7013012a7a9a56191db85188f252
   "id": "206e2758",
   "metadata": {},
   "outputs": [],
   "source": [
    "goodWordDictionary = Trie()\n",
    "badWordDictionary = Trie()\n",
    "\n",
    "\n",
    "for gword in positive:\n",
    "    goodWordDictionary.add_word(gword)\n",
    "    \n",
    "for bword in negative:\n",
    "    badWordDictionary.add_word(bword)"
   ]
  },
  {
   "cell_type": "code",
<<<<<<< HEAD
   "execution_count": 6,
=======
   "execution_count": 346,
>>>>>>> 92834599919a7013012a7a9a56191db85188f252
   "id": "5d4feef4",
   "metadata": {},
   "outputs": [],
   "source": [
<<<<<<< HEAD
    "countryName = {'Country':['Japan', 'Korea', 'Malaysia', 'UAE', 'Mexico']}\n",
=======
    "countryName = {'Country':['Japan', 'Korea', 'Malaysia', 'UAE', 'USA']}\n",
>>>>>>> 92834599919a7013012a7a9a56191db85188f252
    "data = pd.DataFrame(countryName)"
   ]
  },
  {
   "cell_type": "code",
<<<<<<< HEAD
   "execution_count": 7,
=======
   "execution_count": 347,
>>>>>>> 92834599919a7013012a7a9a56191db85188f252
   "id": "f7e5bb37",
   "metadata": {},
   "outputs": [],
   "source": [
    "# count the word\n",
    "totalGWordFrequency = [0, 0, 0, 0, 0]\n",
    "totalBWordFrequency = [0, 0, 0, 0, 0]\n",
    "byArticleWordCountG = [[0, 0, 0, 0, 0],[0, 0, 0, 0, 0],[0, 0, 0, 0, 0],[0, 0, 0, 0, 0],[0, 0, 0, 0, 0]]\n",
    "byArticleWordCountB = [[0, 0, 0, 0, 0],[0, 0, 0, 0, 0],[0, 0, 0, 0, 0],[0, 0, 0, 0, 0],[0, 0, 0, 0, 0]]\n",
    "wordCount = [[0, 0, 0, 0, 0],[0, 0, 0, 0, 0],[0, 0, 0, 0, 0],[0, 0, 0, 0, 0],[0, 0, 0, 0, 0]] # for analysis\n",
    "\n",
    "for i in range(number_of_countries):\n",
    "    for j in range(number_of_articles):\n",
    "        wordCount[i][j] = len(articles[i][j])\n",
    "        for words in articles[i][j].split():\n",
    "            wordCount\n",
    "            if goodWordDictionary.search(words) == True:\n",
    "                totalGWordFrequency[i] += 1\n",
    "                byArticleWordCountG[i][j] += 1\n",
    "            elif badWordDictionary.search(words) == True:\n",
    "                totalBWordFrequency[i] += 1\n",
    "                byArticleWordCountB[i][j] += 1\n",
    "            else:\n",
    "                continue\n",
    "                \n",
    "data['Good'] = totalGWordFrequency\n",
    "data['Bad'] = totalBWordFrequency\n",
    "data['byArticleWordCountG'] = byArticleWordCountG\n",
    "data['byArticleWordCountB'] = byArticleWordCountB"
   ]
  },
  {
   "cell_type": "code",
<<<<<<< HEAD
   "execution_count": 8,
=======
   "execution_count": 348,
>>>>>>> 92834599919a7013012a7a9a56191db85188f252
   "id": "9433b38a",
   "metadata": {},
   "outputs": [
    {
     "data": {
      "text/html": [
       "<div>\n",
       "<style scoped>\n",
       "    .dataframe tbody tr th:only-of-type {\n",
       "        vertical-align: middle;\n",
       "    }\n",
       "\n",
       "    .dataframe tbody tr th {\n",
       "        vertical-align: top;\n",
       "    }\n",
       "\n",
       "    .dataframe thead th {\n",
       "        text-align: right;\n",
       "    }\n",
       "</style>\n",
       "<table border=\"1\" class=\"dataframe\">\n",
       "  <thead>\n",
       "    <tr style=\"text-align: right;\">\n",
       "      <th></th>\n",
       "      <th>Country</th>\n",
       "      <th>Good</th>\n",
       "      <th>Bad</th>\n",
       "      <th>byArticleWordCountG</th>\n",
       "      <th>byArticleWordCountB</th>\n",
       "    </tr>\n",
       "  </thead>\n",
       "  <tbody>\n",
       "    <tr>\n",
       "      <th>0</th>\n",
       "      <td>Japan</td>\n",
       "      <td>233</td>\n",
       "      <td>122</td>\n",
       "      <td>[25, 45, 106, 6, 51]</td>\n",
       "      <td>[16, 24, 53, 4, 25]</td>\n",
       "    </tr>\n",
       "    <tr>\n",
       "      <th>1</th>\n",
       "      <td>Korea</td>\n",
       "      <td>137</td>\n",
       "      <td>58</td>\n",
       "      <td>[18, 21, 39, 18, 41]</td>\n",
       "      <td>[6, 9, 10, 17, 16]</td>\n",
       "    </tr>\n",
       "    <tr>\n",
       "      <th>2</th>\n",
       "      <td>Malaysia</td>\n",
       "      <td>134</td>\n",
       "      <td>67</td>\n",
       "      <td>[24, 15, 16, 35, 44]</td>\n",
       "      <td>[17, 4, 18, 19, 9]</td>\n",
       "    </tr>\n",
       "    <tr>\n",
       "      <th>3</th>\n",
       "      <td>UAE</td>\n",
       "      <td>178</td>\n",
       "      <td>26</td>\n",
       "      <td>[52, 26, 15, 64, 21]</td>\n",
       "      <td>[0, 1, 4, 17, 4]</td>\n",
       "    </tr>\n",
       "    <tr>\n",
       "      <th>4</th>\n",
<<<<<<< HEAD
       "      <td>Mexico</td>\n",
       "      <td>60</td>\n",
       "      <td>22</td>\n",
       "      <td>[15, 15, 8, 15, 7]</td>\n",
       "      <td>[5, 3, 5, 7, 2]</td>\n",
=======
       "      <td>USA</td>\n",
       "      <td>0</td>\n",
       "      <td>0</td>\n",
       "      <td>[0, 0, 0, 0, 0]</td>\n",
       "      <td>[0, 0, 0, 0, 0]</td>\n",
>>>>>>> 92834599919a7013012a7a9a56191db85188f252
       "    </tr>\n",
       "  </tbody>\n",
       "</table>\n",
       "</div>"
      ],
      "text/plain": [
       "    Country  Good  Bad   byArticleWordCountG  byArticleWordCountB\n",
       "0     Japan   233  122  [25, 45, 106, 6, 51]  [16, 24, 53, 4, 25]\n",
       "1     Korea   137   58  [18, 21, 39, 18, 41]   [6, 9, 10, 17, 16]\n",
       "2  Malaysia   134   67  [24, 15, 16, 35, 44]   [17, 4, 18, 19, 9]\n",
       "3       UAE   178   26  [52, 26, 15, 64, 21]     [0, 1, 4, 17, 4]\n",
<<<<<<< HEAD
       "4    Mexico    60   22    [15, 15, 8, 15, 7]      [5, 3, 5, 7, 2]"
      ]
     },
     "execution_count": 8,
=======
       "4       USA     0    0       [0, 0, 0, 0, 0]      [0, 0, 0, 0, 0]"
      ]
     },
     "execution_count": 348,
>>>>>>> 92834599919a7013012a7a9a56191db85188f252
     "metadata": {},
     "output_type": "execute_result"
    }
   ],
   "source": [
    "data\n"
   ]
  },
  {
   "cell_type": "markdown",
   "id": "7d0dfa60",
   "metadata": {},
   "source": [
    "### Visualization"
   ]
  },
  {
   "cell_type": "code",
<<<<<<< HEAD
   "execution_count": 9,
=======
   "execution_count": 349,
>>>>>>> 92834599919a7013012a7a9a56191db85188f252
   "id": "76983a8e",
   "metadata": {},
   "outputs": [
    {
     "data": {
<<<<<<< HEAD
      "image/png": "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\n",
=======
      "image/png": "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\n",
>>>>>>> 92834599919a7013012a7a9a56191db85188f252
      "text/plain": [
       "<Figure size 1080x360 with 2 Axes>"
      ]
     },
     "metadata": {
      "needs_background": "light"
     },
     "output_type": "display_data"
    }
   ],
   "source": [
    "# Total GOOD or BAD Word count visualization \n",
<<<<<<< HEAD
    "countryNames = ['JAPAN', 'KOREA', 'MALAYSIA', 'UAE', 'MEXICO']\n",
=======
    "countryNames = ['JAPAN', 'KOREA', 'MALAYSIA', 'UAE', 'USA']\n",
>>>>>>> 92834599919a7013012a7a9a56191db85188f252
    "\n",
    "plt.figure(figsize=(15, 5))\n",
    "\n",
    "plt.subplot(131)\n",
    "plt.plot(countryNames, data['Good'],'ro' , color = 'b')\n",
    "plt.subplot(132)\n",
    "plt.plot(countryNames, data['Bad'], 'ro', color='r')\n",
    "plt.suptitle('Total Word Count')\n",
    "plt.show()"
   ]
  },
  {
   "cell_type": "code",
<<<<<<< HEAD
   "execution_count": 21,
=======
   "execution_count": 350,
>>>>>>> 92834599919a7013012a7a9a56191db85188f252
   "id": "0e35bea2",
   "metadata": {},
   "outputs": [
    {
     "data": {
<<<<<<< HEAD
      "image/png": "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\n",
=======
      "image/png": "iVBORw0KGgoAAAANSUhEUgAABsUAAAHlCAYAAACtVvIxAAAAOXRFWHRTb2Z0d2FyZQBNYXRwbG90bGliIHZlcnNpb24zLjMuNCwgaHR0cHM6Ly9tYXRwbG90bGliLm9yZy8QVMy6AAAACXBIWXMAAAsTAAALEwEAmpwYAAA+zElEQVR4nO3de7ScVX0//vcHwi0koFzki4CGIgKWmxUFESh4wRsKeKdUQUWq1goGraitELUWfyCiVVFUFCqNUipe8BZFUsAKGAQVGzC2RkStIGBMAokg+/fHTPAkJuGQM+fMOXNer7VmPTP72fOc97CWY5L32fup1loAAAAAAABgkK3X7wAAAAAAAAAw2pRiAAAAAAAADDylGAAAAAAAAANPKQYAAAAAAMDAU4oBAAAAAAAw8JRiAAAAAAAADLwp/Q7Qa1tttVWbMWNGv2MAAAAAAAAwxq699trftNa2Xt25gSvFZsyYkXnz5vU7BgAAAAAAAGOsqn62pnO2TwQAAAAAAGDgKcUAAAAAAAAYeEoxAAAAAAAABt7A3VMMAAAAAABgIrjnnntyyy23ZNmyZf2OMuFsvPHG2X777bPBBhsM+z1KMQAAAAAAgD645ZZbMn369MyYMSNV1e84E0ZrLbfffntuueWW7LjjjsN+n+0TAQAAAAAA+mDZsmXZcsstFWIPUlVlyy23fNAr7JRiAAAAAAAAfaIQWzfr8t9NKQYAAAAAADCJTZs2rd8RxoR7igEAAAAAAIwDZ57xnixe+uC2BFyb6ZtunJlvfHPPrjfRKcUAAAAAAADGgcVLl2W/DU/v2fWuWvqmYc9dsmRJDj/88Nx5552555578q53vSuHH354Fi5cmGc84xnZd999c9111+XRj350zj///EydOjXveMc78qUvfSl333139t9//3z0ox9NVeXggw/Ovvvum8suuyy//e1v84lPfCIHHnhgzz7XurJ9IgAAAAAAwCS38cYb5+KLL873vve9XHbZZTnppJPSWkuS3HTTTTn++OPzgx/8IJtttlk+/OEPJ0le97rX5bvf/W5uuOGG3H333bnkkkvuv969996ba665JmeddVZmzZrVl8+0KqUYAAAAAADAJNday1vf+tbsueeeeepTn5pf/OIX+fWvf50k2WGHHfKkJz0pSfLXf/3XufLKK5Mkl112Wfbdd9/sscce+da3vpUf/ehH91/vec97XpLkcY97XBYuXDi2H2YNbJ8IAAAAAAAwyV1wwQW57bbbcu2112aDDTbIjBkzsmxZ5/5mVbXS3KrKsmXL8trXvjbz5s3LDjvskFNPPfX++Umy0UYbJUnWX3/93HvvvWP3QdbCSjEAAAAAAIBJbtGiRXnYwx6WDTbYIJdddll+9rOf3X/u5ptvzne+850kyezZs3PAAQfcX4BttdVWWbJkSS666KK+5H4wlGIAAAAAAACT1L333puNNtooRx99dObNm5d99tknF1xwQXbdddf75+y2224577zzsueee+aOO+7Ia17zmjzkIQ/Jq171quyxxx454ogj8vjHP76Pn2J4bJ8IAAAAAAAwDkzfdONctfRNPb3eA/nRj36UnXbaKVtttdX9q8GGWrhwYdZbb7185CMf+ZNz73rXu/Kud73rT8bnzp17//OtttrKPcUAAAAAAAD4o5lvfPOY/ryPfOQj+cAHPpCzzjprTH9uvyjFAAAAAAAAJqFXv/rVefWrX73WOTNmzMgNN9wwRolGl3uKAQAAAAAAMPCsFAMAgEnmzDPek8VLl/U7xjqbvunGY76lCAAAABOfUgwAACaZxUuXZb8NT+93jHXWy5tOAwAAMHnYPhEAAAAAAICBpxQDAAAAAACYpKZNm3b/86985SvZeeedc/PNN/cx0eixfSIAAAAAAMA4cOZ735vFS5b07HrTp03LzJNOGtbcSy+9NH/3d3+XOXPm5BGPeMQDzm+tpbWW9dabOOuvlGIAAAAAAADjwOIlS3LA5pv37HpXLlo0rHlXXHFFXvWqV+UrX/lKdtpppyTJmWeemXPPPTdJctxxx+XEE0/MwoUL88xnPjOHHHJIvvOd7+Tzn/98Lrzwwlx44YVZvnx5jjzyyMyaNStJcsQRR+TnP/95li1blhNOOCHHH398zz7XulKKAQAAAAAATFLLly/P4Ycfnrlz52bXXXdNklx77bX55Cc/mauvvjqttey77775y7/8yzz0oQ/NTTfdlE9+8pP58Ic/nDlz5mTBggW55ppr0lrLc5/73Fx++eU56KCDcu6552aLLbbI3Xffncc//vF5/vOfny233LKvn3XirGkDAAAAAACgpzbYYIPsv//++cQnPnH/2JVXXpkjjzwym266aaZNm5bnPe95ueKKK5Ikj3zkI7PffvslSebMmZM5c+bksY99bP7iL/4iN954YxYsWJAk+cAHPpC99tor++23X37+85/fP95PVooBAAAAAABMUuutt14uvPDCPPWpT8273/3uvPWtb01rbY3zN9100/uft9bylre8JX/zN3+z0py5c+fmm9/8Zr7zne9k6tSpOfjgg7Ns2bJR+wzDZaUYAAAAAADAJDZ16tRccsklueCCC/KJT3wiBx10UD7/+c/nrrvuytKlS3PxxRfnwAMP/JP3Pf3pT8+5556bJUuWJEl+8Ytf5NZbb82iRYvy0Ic+NFOnTs2NN96Yq666aqw/0mpZKQYAAAAAADDJbbHFFvna176Wgw46KGeddVaOPfbYPOEJT0iSHHfccXnsYx+bhQsXrvSeQw89NPPnz88Tn/jEJMm0adPy6U9/Os94xjPykY98JHvuuWd22WWX+7db7DelGAAAAAAAwDgwfdq0XLloUU+v90BWrPJKkh122CE//elP7389c+bMlebOmDEjN9xww0pjJ5xwQk444YQ/ue5Xv/rVBxt31CnFAAAAAAAAxoGZJ53U7wgDzT3FAAAAAAAAGHhKMQAAAAAAAAaeUgwAAAAAAICBpxQDAAAAAABg4CnFAAAAAAAAGHhKMQAAAAAAgEmqqvLSl770/tf33ntvtt566xx22GFrfd/cuXMfcM6D8ctf/jIveMELena91ZkyqldfRVWdm+SwJLe21nbvjm2R5LNJZiRZmORFrbU7u+fekuSVSf6Q5PWtta+PZV4AAAAAAICxctZ7T8uiJct7dr3Np22UE086ea1zNt1009xwww25++67s8kmm+Qb3/hGtttuu55lGK6HP/zhueiii0b1Z4xpKZbkU0k+mOT8IWMnJ7m0tXZaVZ3cff3mqnpMkpck+fMkD0/yzap6dGvtD2OcGQAAAAAAYNQtWrI8p+x8as+uN2vB8K71zGc+M1/+8pfzghe8ILNnz85RRx2VK664IklyzTXX5MQTT7y/NPvkJz+ZXXbZZaX3r2nOgQcemH/5l3/J3nvvnSR50pOelLPPPjt33nlnTjjhhCSdlWqXX355br/99hx22GG54YYbsnDhwrz0pS/N0qVLkyQf/OAHs//++4/4v8eYbp/YWrs8yR2rDB+e5Lzu8/OSHDFk/DOtteWttZ8m+UmSJ4xFTgAAAAAAgMniJS95ST7zmc9k2bJl+cEPfpB99933/nO77rprLr/88lx33XV5xzvekbe+9a1/8v41zTnuuOPyqU99Kkny4x//OMuXL8+ee+6ZM844Ix/60Idy/fXX54orrsgmm2yy0vUe9rCH5Rvf+Ea+973v5bOf/Wxe//rX9+RzjvVKsdXZprX2qyRprf2qqh7WHd8uyVVD5t3SHQMAAAAAAKBH9txzzyxcuDCzZ8/Os571rJXOLVq0KMccc0wWLFiQqso999zzJ+9f05wXvvCFeec735nTTz895557bo499tgknRVjM2fOzNFHH53nPe952X777Ve63j333JPXve51uf7667P++uvnxz/+cU8+55iuFHuQajVjbbUTq46vqnlVNe+2224b5VgAAAAAAACD5bnPfW7e+MY35qijjlpp/B//8R9zyCGH5IYbbsiXvvSlLFu27E/eu6Y5U6dOzdOe9rR84QtfyIUXXpi/+qu/SpKcfPLJ+fjHP5677747++23X2688caVrve+970v22yzTb7//e9n3rx5+f3vf9+TzzgeVor9uqq27a4S2zbJrd3xW5LsMGTe9kl+uboLtNbOSXJOkuyzzz6rLc4AAAAAAABYvVe84hXZfPPNs8cee2Tu3Ln3jy9atCjbbdfZyG/FVoirWtuc4447Ls95znNy4IEHZosttkiS/M///E/22GOP7LHHHvnOd76TG2+88f77jq243vbbb5/11lsv5513Xv7whz/05DOOh5ViX0xyTPf5MUm+MGT8JVW1UVXtmGTnJNf0IR8AAAAAAMBA23777XPCCSf8yfjf//3f5y1veUue9KQnrbGcWtucxz3ucdlss83y8pe//P6xs846K7vvvnv22muvbLLJJnnmM5+50nte+9rX5rzzzst+++2XH//4x9l000178AmTam3sFlZV1ewkByfZKsmvk5yS5PNJLkzyiCQ3J3lha+2O7vy3JXlFknuTnNha++oD/Yx99tmnzZs3bzTiAwDAQJg1a1b22/D0fsdYZ1f9/k055ZRT+h0DAABgxObPn5/ddtvt/tdnvfe0LFqyvGfX33zaRjnxpJN7dr118ctf/jIHH3xwbrzxxqy3Xm/Xaq363y9Jqura1to+q5s/ptsnttaOWsOpp6xh/j8l+afRSwQAAAAAADA+9LvA6rXzzz8/b3vb23LmmWf2vBBbF+PhnmIAAAAAAAAMmJe97GV52cte1u8Y9+t/LQcAAAAAAACjTCkGAAAAAADAwFOKAQAAAAAAMPCUYgAAAAAAAAw8pRgAAAAAAMAktXDhwuy+++4rjZ166qk544wzkiT33ntvttpqq7zlLW9Zac7BBx+cXXbZJXvvvXf23nvvvOAFLxizzOtqSr8DAAAAAAAAkJx55plZvHhxz643ffr0zJw5c0TXmDNnTnbZZZdceOGFefe7352quv/cBRdckH322WekMceMUgwAAAAAAGAcWLx4cXbbbbeeXW/+/Pkjvsbs2bNzwgkn5Oyzz85VV12VJz7xiT1I1h9KMQAAAAAAAP7E3XffnUsvvTQf/ehH89vf/jazZ89eqRQ7+uijs8kmmyRJnva0p+X000/vV9RhUYoBAAAAAABMUkO3Q1x1/JJLLskhhxySqVOn5vnPf37e+c535n3ve1/WX3/9JBNv+8T1+h0AAAAAAACA/thyyy1z5513rjR2xx13ZKuttsrs2bPzzW9+MzNmzMjjHve43H777bnsssv6lHTklGIAAAAAAACT1LRp07Ltttvm0ksvTdIpxL72ta9l7733zpVXXpmbb745CxcuzMKFC/OhD30os2fP7nPidWf7RAAAAAAAgEns/PPPz9/+7d/mpJNOSpKccsopue666/LkJz85G2200f3zDj/88Pz93/99li9fnmTle4pttdVW+eY3vzn24R8EpRgAAAAAAMA4MH369MyfP7+n1xuOxzzmMavdFvHYY49d6fUWW2yR2267LUkyd+7ckcYbc0oxAAAAAACAcWDmzJn9jjDQ3FMMAAAAAACAgacUAwAAAAAAYOApxQAAAAAAABh4SjEAAAAAAAAGnlIMAAAAAACAgacUAwAAAAAAmKQWLlyY3XfffaWxU089NWeccUauuuqq7Lvvvtl7772z22675dRTT11p3gknnJDtttsu99133xgmXndT+h0AAAAAAACA5Kz3nZZFv1ves+ttvtlGOfENJ6/z+4855phceOGF2WuvvfKHP/whN9100/3n7rvvvlx88cXZYYcdcvnll+fggw/uQeLRpRQDAAAAAAAYBxb9bnlOefGpPbverM+O7Fq33nprtt122yTJ+uuvn8c85jH3n7vsssuy++6758UvfnFmz549IUox2ycCAAAAAADwJ97whjdkl112yZFHHpmPfvSjWbZs2f3nZs+enaOOOipHHnlkLrnkktxzzz19TDo8SjEAAAAAAIBJqqrWOP72t7898+bNy6GHHpp/+7d/yzOe8Ywkye9///t85StfyRFHHJHNNtss++67b+bMmTOWsdeJ7RMBAAAAAAAmqS233DJ33nnnSmN33HFHdtxxxyTJTjvtlNe85jV51atela233jq33357vv3tb2fRokXZY489kiR33XVXpk6dmmc/+9ljnv/BsFIMAAAAAABgkpo2bVq23XbbXHrppUk6hdjXvva1HHDAAfnyl7+c1lqSZMGCBVl//fXzkIc8JLNnz87HP/7xLFy4MAsXLsxPf/rTzJkzJ3fddVc/P8oDUooBAAAAAABMYueff37e9a53Ze+9986Tn/zknHLKKdlpp53yr//6r9lll12y995756UvfWkuuOCCLF++PF//+tdXWhW26aab5oADDsiXvvSlPn6KB2b7RAAAAAAAgHFg8802yqzPntrT6w3HYx7zmFx22WV/Mv6Zz3xmtfPvuOOOPxn73Oc+9+DC9YFSDAAAAAAAYBw48Q0n9zvCQLN9IgAAAAAAAANPKQYAAAAAAMDAU4oBAAAAAAD0SWut3xEmpHX576YUAwAAAAAA6IONN944t99+u2LsQWqt5fbbb8/GG2/8oN43ZZTyAAAAAAAAsBbbb799brnlltx22239jjLhbLzxxtl+++0f1HuUYgAAAAAAAH2wwQYbZMcdd+x3jEnD9okAAAAAAAAMPKUYAAAAAAAAA08pBgAAAAAAwMBTigEAAAAAADDwlGIAAAAAAAAMPKUYAAAAAAAAA08pBgAAAAAAwMBTigEAAAAAADDwlGIAAAAAAAAMPKUYAAAAAAAAA08pBgAAAAAAwMBTigEAAAAAADDwlGIAAAAAAAAMPKUYAAAAAAAAA08pBgAAAAAAwMBTigEAAAAAADDwlGIAAAAAAAAMPKUYAAAAAAAAA08pBgAAAAAAwMBTigEAAAAAADDwlGIAAAAAAAAMPKUYAAAAAAAAA08pBgAAAAAAwMBTigEAAAAAADDwlGIAAAAAAAAMPKUYAAAAAAAAA08pBgAAAAAAwMBTigEAAAAAADDwlGIAAAAAAAAMPKUYAAAAAAAAA08pBgAAAAAAwMBTigEAAAAAADDwlGIAAAAAAAAMvHFTilXVG6rqR1V1Q1XNrqqNq2qLqvpGVS3oHh/a75wAAAAAAABMPOOiFKuq7ZK8Psk+rbXdk6yf5CVJTk5yaWtt5ySXdl8DAAAAAADAgzIuSrGuKUk2qaopSaYm+WWSw5Oc1z1/XpIj+hMNAAAAAACAiWxclGKttV8kOSPJzUl+lWRRa21Okm1aa7/qzvlVkof1LyUAAAAAAAAT1bgoxbr3Cjs8yY5JHp5k06r66wfx/uOral5VzbvttttGKyYAAAAAAAAT1LgoxZI8NclPW2u3tdbuSfK5JPsn+XVVbZsk3eOtq3tza+2c1to+rbV9tt566zELDQAAAAAAwMQwXkqxm5PsV1VTq6qSPCXJ/CRfTHJMd84xSb7Qp3wAAAAAAABMYFP6HSBJWmtXV9VFSb6X5N4k1yU5J8m0JBdW1SvTKc5e2L+UAAAAAAAATFTjohRLktbaKUlOWWV4eTqrxgAAAAAAAGCdjZftEwEAAAAAAGDUKMUAAAAAAAAYeEoxAAAAAAAABp5SDAAAAAAAgIGnFAMAAAAAAGDgKcUAAAAAAAAYeEoxAAAAAAAABp5SDAAAAAAAgIGnFAMAAAAAAGDgKcUAAAAAAAAYeEoxAAAAAAAABp5SDAAAAAAAgIGnFAMAAAAAAGDgDasUq6pzq+oTazj3iqp6RW9jAQAAAAAAQO8Md6XYsd3H6nw8yTm9CAMAAAAAAACjYUTbJ1bVNiue9iALAAAAAAAAjIopazpRVSckOWGVsf9dZdpW3eNvepwLAAAAAAAAemaNpViShySZMeR1rfJ6qK/2Jg4AAAAAAAD03tpKsYVJ/rP7/C+TtCSXDznfktyZ5LtJ/mU0wgEAAAAAAEAvrLEUa62dl+S8JKmq+7pjh4xRLgAAAAAAAOiZta0Uu19rbb3RDgIAAAAAAACjZVilWJJU1a5JnpdkhyQbrXK6tdZe2ctgAAAAAAAA0CvDKsWq6uh0tlKstUxTigEAAAAAADAuDXel2ClJbKEIAAAAAADAhDTcomu7JC3J8UmmttbWW/UxehEBAAAAAABgZIZbZl3TPf5Ha23ZaIUBAAAAAACA0TDcUuz1SX6X5ONVtUtVWRkGAAAAAADAhDHccuv6JJslOSLJfye5p6r+MORx7yjlAwAAAAAAgBGbMsx5NaopAAAAAAAAYBQNtxQ7b1RTAAAAAAAAwCgaVinWWnv5aAcBAAAAAACA0TLce4oBAAAAAADAhDWslWJV9b8PMKW11nbqQR4AAAAAAADoueHeU2zGGsZbkuoeAQAAAAAAYFwabil2eVYuvtZP8sgkOyS5K8k1Pc4FAAAAAAAAPTOsUqy1dvDqxqvq2CSfSPKx3kUCAAAAAACA3lpvJG9urX0qydIkb+tJGgAAAAAAABgFw1opVlUHrWZ44yRPTzIta77nGAAAAAAAAPTdcO8pNjcr31NsqJbkhz1JAwAAAAAAAKNguKVYktQaxm9J8poeZAEAAAAAAIBRMdxS7OWrGVueTiF2dWvtnt5FAgAAAAAAgN4aVinWWjtvtIMAAAAAAADAaBn29olVNT3JG5IcmmTrJL9J8vUkZ7XWfjc68QAAAAAAAGDkhlWKVdUWSb6d5NErhpI8Ksl+Sf6qqvZvrd0xOhEBAAAAAABgZNYb5rxTk+ySThm24l5iy7uvd+6eBwAAAAAAgHFpuKXYc5O0JKcleUhr7RFJHtJ9Xd3zAAAAAAAAMC4NtxTbtnt8d2vt90nSPb57lfMAAAAAAAAw7gy3FPtt9/iUVcaf3D0u6kkaAAAAAAAAGAVThjnv8iTPT3JRVV2e5OdJtk/yl+lsq/ifoxMPAAAAAAAARm64pdipSZ6ZZGqSg4eMV5K7kszqaSoAAAAAAADooWFtn9ha+1E6q8IuT2dlWHWPlyc5uLV2w6glBAAAAAAAgBEa7kqxtNauTXJwVW2S5KFJ7myt3T1qyQAAAAAAAKBH1liKVdUWSQ5IZ0XYJa21liTdIuzuqlqvqp6TzqqxK1trd4xFYAAAAAAAAHiw1rZ94uuSXJzkBSsKsaFaa/cleVF3zt+OTjwAAAAAAAAYubWVYod3jx9ay5wPpbNS7PC1zAEAAAAAAIC+WlsptmP3eP1a5lzXPf5ZT9IAAAAAAADAKFhbKbZx9zh9LXM27R436k0cAAAAAAAA6L21lWI3d4/HrGXOsd3jz3uSBgAAAAAAAEbBlLWcm5Pk0UlOq6otk7y/tXZrklTV1klOSPKmJC3J10c7KAAAAAD005lnnpnFixf3O8Y6mz59embOnNnvGADQN2srxc5IZyXYpklOTnJyVS3qntu8e6wki5O8d7QCAgAAAMB4sHjx4uy22279jrHO5s+f3+8IANBXa9w+sbV2c5IXJ1maTvlVSR7Sfax4vSTJi7tzAQAAAAAAYFxa2z3F0lr7apLdk/xLkh8nWZbk7iQ3JflAkt1ba18b7ZAAAAAAAAAwEmvbPjHJ/SvGThiDLAAAAAAAADAq1rpSDAAAAAAAAAaBUgwAAAAAAICBpxQDAAAAAABg4CnFAAAAAAAAGHhKMQAAAAAAAAbeOpdiVfXwqtqzqqb0MhAAAAAAAAD02rBKsap6ZVV9sape1X399iQ3J7kuyYKqetQoZgQAAAAAAIARGe5KsaOTPDvJr6pqiyT/0H1vJXlEkrePNEhVPaSqLqqqG6tqflU9saq2qKpvVNWC7vGhI/05AAAAAAAATD7DLcV26x6vTbJfkilJvpLkbekUYwf3IMv7k3yttbZrkr2SzE9ycpJLW2s7J7m0+xoAAAAAAAAelOGWYitWaN2a5M+TtCSfTvLe7vjDRhKiqjZLclCSTyRJa+33rbXfJjk8yXndaeclOWIkPwcAAAAAAIDJabil2J3d43OSPL37fEGSad3nS0aY48+S3Jbkk1V1XVV9vKo2TbJNa+1XSdI9rrZ8q6rjq2peVc277bbbRhgFAAAAAACAQTPcUuzadLZJ/I8khyRZlOT6JI/qnl84whxTkvxFkrNba49NsjQPYqvE1to5rbV9Wmv7bL311iOMAgAAAAAAwKAZbin29iR3pFOM3Zfkra21PyQ5snv+ihHmuCXJLa21q7uvL0qnJPt1VW2bJN3jrSP8OQAAAAAAAExCwyrFWmvfS/KIJPsk2b619pHuqfcl2THJP44kRGvt/5L8vKp26Q49Jcl/J/likmO6Y8ck+cJIfg4AAAAAAACT05ThTmyt3ZXke6uM9XLl1t8luaCqNkzyv0lenk5pd2FVvTLJzUle2MOfBwAAAAAAwCSxxlKsqr71IK7TWmtPGUmQ1tr16axEW9WIrgsAAAAAAABrWyl2cJI25HWt8vqBxgEAAAAAAGBcWFspdnNWLru2TDItye+T3JFkiyQbJrkrSS+3UQQAAAAAAICeWm9NJ1prM1prO7bWdkxydDorwv4pyeattYcn2TzJP3fHXz4WYQEAAAAAAGBdrLEUW8X7k0xN8p7W2vIk6R5PS7JJkveOTjwAAAAAAAAYueGWYrt3jy9aZXzF6z/vTRwAAAAAAADoveGWYj/pHj9WVQuqam5VLUhyTjr3HVswKukAAAAAAACgB4Zbip2U5J507h+2U5IDu8fqjp80KukAAAAAAACgB4ZVirXW5iTZO8kFSX6aZHn3+Okke7XWvjFaAQEAAAAAAGCkpjzQhKraKMnTuy9nttZuG91IAAAAAAAA0FsPWIq11pZX1UXprCrbdvQjAQAAAAAAQG8N955i89O5f1iNYhYAAAAAAAAYFcMtxd6U5PdJPlRVW41iHgAAAAAAAOi5B9w+seujSe5N8rwkR1bVrUmWDTnfWms79TocAAAAAAAA9MJwS7FHJmn54xaK/2+V862XoQAAAAAAAKCXhluKXR7FFwAAAAAAABPUsEqx1trBo5wDAAAAAAAARs1wV4olSapq0yRPTLJ1kt8k+a/W2tLRCAYAAAAAAAC9MuxSrKr+Jsl7kkwfMrykqk5urZ3d82QAAAAAAADQI+sNZ1JVPSfJ2Uk2S1JDHtOTfLCqnjtqCQEAAAAAAGCEhrtS7I3d4y+TnJPkliTbJzmue3xjki/2PB0AAAAAAAD0wHBLsccmaUme0Vq7YcVgVX0uyQ+S7N37aAAAAAAAANAbw9o+MX8sz/5vlfFfr3IeAAAAAAAAxp3hlmILusd/q6oDq2pGVR2Q5NPd8Z/0PhoAAAAAAAD0xnBXeJ2f5PQkT+k+hmpJzutlKAAAAAAAAOil4a4Ue1+Sf09Sq3l8rnseAAAAAAAAxqVhrRRrrd2X5MVVdXaSQ5NsleQ3Sea01uaOXjwAAAAAAAAYuTWWYlX15SRXdx/XtNbu7BZgc8cmGjARnHnmmVm8eHG/Y6yz6dOnZ+bMmf2OAQAAAADAKFvbSrFnJnnGihdV9ZP8sSS7Osn1rbV7RzceMN4tXrw4u+22W79jrLP58+f3OwIAAAAAAGNgbaXYXUmmDnm9c5JHJTm6+/r3VXVd/riSbPboRAQAAAAAAICRWVsptlmSPZLsm2S/7nHXJNU9v1F3bN/ua6UYAAAAAAAA49IaS7HW2n1Jvt99nJMkVbVZkickOTDJy5Nsl05J1kY9KQAAAAAA6+TMM96TxUuX9TvGOpu+6caZ+cY39zsGMMGtbaXY/arqEfnjqrB9k/xFko3zx1VjAAAAAACMU4uXLst+G57e7xjr7Kqlb+p3BGAArLEUq6q35I8l2MNWDHePdyf5djr3E7uq+wAAAAAAAIBxaW0rxf4pnW0RK8mC/LH8ujrJ91trfxj9eAAAAAAAADBy6z3A+RX3C9uw+9io+xjWtosAAAAAAAAwHqyt3HpD/rh94o5JHpnkRd1z91bV99NZNXZ1kqtbawtGMygAAAAAAACsqzWWYq219694XlVbJdkvyRPSKcken2SfJI9L8tp0VpNZPQYAAAAAAMC4NKwiq7X2mySXVNV3k8xLsn+Sv0qy/ShmAwAAAAAAgJ5YYylWVRumsxJs33RWie2b5BFjlAsAAAAAAAB6Zm0rxX6XZIMhr2uV80vSWTV2VTr3FQMAAAAAAIBxaW2l2IZDnt+X5EfplF9Xp1OE/ai11kYxGwAAAAAAAPTE2kqxL+aPq8C+21pbMjaRAAAAAAAAoLfWWIq11o4YwxwAAAAAAAAwatbrdwAAAAAAAAAYbUoxAAAAAAAABp5SDAAAAAAAgIGnFAMAAAAAAGDgKcUAAAAAAAAYeFPWdKKqDnowF2qtXT7yOAAAAAAAANB7ayzFksxN0oZ5nfYA1wIAAAAAAIC+eaAiq8YkBQAAAAAAAIyitZViLx/yfMMks5Lcm+TcJL9M8vAkr0iycZJ/HK2AAAAAAAAAMFJrLMVaa+eteF5VZybZJsnurbX5Q8YvTHJDkj8fzZAAAAAAAAAwEsO9D9jLusffrjK+4vVfJXl9D/IAwJg584z3ZPHSZf2Osc6mb7pxZr7xzf2OAQAAAAATwnBLsRXzvlRV70vyiyTbJXnDg7wOAIwbi5cuy34bnt7vGOvsqqVv6ncEAAAAAJgwhltmXZjkuCSPTXL+Kudaks/2MhQAAAAAAAD00nrDnHdCkk+nU4DVkEfrjp84GuEAAAAAAACgF4a1Uqy1dneSl1XVO5Psl2TbJL9K8p3W2k9GMR8AAAAAAExoZ733tCxasrzfMdbZ5tM2yoknndzvGDBiD+peYK21BVXVkmyd5DcKMQAAAAAAWLtFS5bnlJ1P7XeMdTZrwan9jgA9MdztE1NVz6qq/0lyU5Irk9xYVf9TVYeNWjoAAAAAAADogWGVYlX1pCRfSDIjK99TbMckn+ueBwAAAAAAgHFpuNsn/kOS9ZMsSXJRkluSbJ/k+UmmJ3lbkmeNRkAAAAAAAAAYqeGWYvsmaUme1Vq7csVgVZ2b5PIk+41CNgAAAAAAAOiJ4d5TbGr3+MNVxn+4ynkAAAAAAAAYd4Zbii3sHj9QVTtUx/ZJ3t8d/1nPkwEAAAAAAECPDLcU+/ckleSv0ynI7k2nCHtpOtsqXjga4QAAAAAAAKAXhluK/VOSb6dTjK36uKp7HgAAAAAAAMalKcOZ1FpbVlWHpLNS7NAkWyX5TZI5ST7dWrt39CICAAAAAADAyAyrFEuSbvH1qe4DAAAAAAAAJoxhl2JVtUOSWemsFNs6nZViX09yamvt5l6Eqar1k8xL8ovW2mFVtUWSzyaZkc69zF7UWruzFz8LAAAAAICJoZLMmjWr3zGACW5YpVhVPSLJ1Ukels73T5Jsm+SYJM+qqif0qBg7Icn8JJt1X5+c5NLW2mlVdXL39Zt78HMAAAAAAJggWpIDNt+83zHW2ZWLFvU7ApBkvWHOm5Vkm3QKsYVJrkzy0+7rrbvnR6Sqtk/y7CQfHzJ8eJLzus/PS3LESH8OAAAAAAAAk89wS7FD0ynjX9da+7PW2kGttZ2SvC6dYuzQHmQ5K8nfJ7lvyNg2rbVfJUn3+LAe/BwAAAAAAAAmmeGWYlt1j+evMn7+KufXSVUdluTW1tq16/j+46tqXlXNu+2220YSBQAAAAAAgAE03FJsRdP00lXG/7p7/M0IczwpyXOramGSzyR5clV9Osmvq2rbJOkeb13dm1tr57TW9mmt7bP11luPMAoAAAAAAACDZril2DfS2Sbxg1X1k6qaW1U/SfKhdLZVnDOSEK21t7TWtm+tzUjykiTfaq39dZIvJjmmO+2YJF8Yyc8BAAAAAABgcpoyzHlvT/KsJFsn+bMkO3bHK51VZKf0PlqS5LQkF1bVK5PcnOSFo/RzAACACaKSzJo1q98x1tn0adMy86ST+h0DAABg0hlWKdZa+3lVPT7JO5Icms49xH6TzgqxU1prN/cqUGttbpK53ee3J3lKr64NAABMfC3JAZtv3u8Y6+zKRYv6HQEAAGBSGu5KsXSLr2NHLwoAAAAAAACMjmGXYklSVfuvbry19l+9iQMAAAAAAAC9t8ZSrKqekuT0JD9prb2oO3xlOruVrDr3kNba5aMTEQAAAAAAAEZmvbWcOyrJXkm+vZpzNeSRJC/ucS4AAAAAAADombVtn/jE7vGrqzk3q3vcLslxSfbrZSgAAAAAAADopbWVYtt2jz9d9URrbVaSVNWm6ZRi2/U+GgAAAAAAAPTG2kqxTbrHqUkWdZ8/cQ1zH9KrQAAAAAAAANBra7un2P91j89eMdBau7q1dvWQOU/vHm/rdTAAAAAAAADolbWVYpcnqSTvr6pnrHqyqg5J8sEkLcmVoxMPAAAAAAAARm5t2yd+IMnRSbZI8uWquinJTemUYI9Osls6pVnrzgUAAAAAAIBxaY2lWGvt2qp6S5L3dId26T5WqO7xlNbad0YpHwAAAAAAAIzY2rZPTGvt9CRHJPl+OiXY0McPkjy/tfauUc4IAAAAAAAAI7K27ROTJK21Lyb5YlVtk+QR6RRiP2ut/Xq0wwEAAAAAAEAvPGAptkK3BFOEAQAAAAAAMOEMuxQDAAAAgJE4672nZdGS5f2OAQBMUkoxAAAAAMbEoiXLc8rOp/Y7xjqbteDUfkcAAEZgvX4HAAAAAAAAgNGmFAMAAAAAAGDgKcUAAAAAAAAYeEoxAAAAAAAABp5SDAAAAAAAgIGnFAMAAAAAAGDgKcUAAAAAAAAYeEoxAAAAAAAABp5SDAAAAAAAgIGnFAMAAAAAAGDgKcUAAAAAAAAYeEoxAAAAAAAABp5SDAAAAAAAgIGnFAMAAAAAAGDgKcUAAAAAAAAYeEoxAAAAAAAABp5SDAAAAAAAgIGnFAMAAAAAAGDgKcUAAAAAAAAYeEoxAAAAAAAABp5SDAAAAAAAgIGnFAMAAAAAAGDgKcUAAAAAAAAYeEoxAAAAAAAABp5SDAAAAAAAgIGnFAMAAAAAAGDgKcUAAAAAAAAYeEoxAAAAAAAABp5SDAAAAAAAgIGnFAMAAAAAAGDgKcUAAAAAAAAYeEoxAAAAAAAABp5SDAAAAAAAgIE3pd8BAAAmojPPPDOLFy/ud4x1Nn369MycObPfMQAAAADGjFIMAGAdLF68OLvttlu/Y6yz+fPn9zsCAAAAwJiyfSIAAAAAAAADTykGAAAAAADAwLN94iR35hnvyeKly/odY51N33TjzHzjm/sdAwAAAAAAGOeUYpPc4qXLst+Gp/c7xjq7aumb+h0BAAAAAACYAGyfCAAAAAAAwMBTigEAAAAAADDwbJ8IfXbWe0/LoiXL+x0DAAAAAAAGmlIM+mzRkuU5ZedT+x1jnc1acGq/IwAAAAAAwAOyfSIAAAAAAAADTykGAAAAAADAwFOKAQAAAAAAMPCUYgAAAAAAAAw8pRgAAAAAAAADTykGAAAAAADAwFOKAQAAAAAAMPCUYgAAAAAAAAw8pRgAAAAAAAADTykGAAAAAADAwJvS7wBJUlU7JDk/yf9Lcl+Sc1pr76+qLZJ8NsmMJAuTvKi1dme/cgLAeFJJZs2a1e8Y62z6tGmZedJJ/Y4BAAAAPICqmtj/BjF9embOnNnvGIwD46IUS3JvkpNaa9+rqulJrq2qbyQ5NsmlrbXTqurkJCcneXMfcwLAuNGSHLD55v2Osc6uXLSo3xEAAACAYWitZbfddut3jHU2f/78fkdgnBgX2ye21n7VWvte9/niJPOTbJfk8CTndaedl+SIvgQEAAAAAABgQhsXpdhQVTUjyWOTXJ1km9bar5JOcZbkYX2MBgAAAAAAwAQ1rkqxqpqW5D+SnNha+92DeN/xVTWvqubddtttoxcQAAAAAACACWnclGJVtUE6hdgFrbXPdYd/XVXbds9vm+TW1b23tXZOa22f1to+W2+99dgEBgAAAAAAYMIYF6VYVVWSTySZ31o7c8ipLyY5pvv8mCRfGOtsAAAAAAAATHxT+h2g60lJXprkh1V1fXfsrUlOS3JhVb0yyc1JXtifeAAAAAAAAExk46IUa61dmaTWcPopY5kFAAAAAACAwTMutk8EAAAAAACA0aQUAwAAAAAAYOCNi+0TYV1VklmzZvU7BgAAAIyJM9/73ixesqTfMQAAJiSlGBNaS3LA5pv3O8aIXLloUb8jAAAAMEEsXrJkQv892N+BAYB+sn0iAAAAAAAAA08pBgAAAAAAwMBTigEAAAAAADDwlGIAAAAAAAAMPKUYAAAAAAAAA08pBgAAAAAAwMCb0u8AAAAAk8n6dU9mzZrV7xjrbPNpG+XEk07udwwAAIAHTSkGAAAwhv7QNsgpO5/a7xjrbNaCU/sdAQAAYJ3YPhEAAAAAAICBpxQDAAAAAABg4Nk+EQDoi4l+Tx2AyaqqJvT39/Tp0zNz5sx+xwAAAPpAKQYA9IV76gBMTK217Lbbbv2Osc7mz5/f7wgAAECf2D4RAAAAAACAgacUAwAAAAAAYOApxQAAAAAAABh4SjEAAAAAAAAGnlIMAAAAAACAgacUAwAAAAAAYOApxQAAAAAAABh4SjEAAAAAAAAGnlIMAAAAAACAgacUAwAAAAAAYOApxQAAAAAAABh4SjEAAAAAAAAGnlIMAAAAAACAgacUAwAAAAAAYOApxQAAAAAAABh4SjEAAAAAAAAGnlIMAAAAAACAgacUAwAAAAAAYOApxQAAAAAAABh4SjEAAAAAAAAGnlIMAAAAAACAgacUAwAAAAAAYOApxQAAAAAAABh4SjEAAAAAAAAGnlIMAAAAAACAgacUAwAAAAAAYOApxQAAAAAAABh4SjEAAAAAAAAGnlIMAAAAAACAgacUAwAAAAAAYOApxQAAAAAAABh4SjEAAAAAAAAGnlIMAAAAAACAgTel3wEAAAAAxsqZZ7wni5cu63cMAAD6QCkGAAAATBqLly7Lfhue3u8Y6+yq37+p3xEAACYs2ycCAAAAAAAw8JRiAAAAAAAADDylGAAAAAAAAANPKQYAAAAAAMDAU4oBAAAAAAAw8JRiAAAAAAAADDylGAAAAAAAAANPKQYAAAAAAMDAU4oBAAAAAAAw8JRiAAAAAAAADDylGAAAAAAAAANPKQYAAAAAAMDAU4oBAAAAAAAw8JRiAAAAAAAADDylGAAAAAAAAANPKQYAAAAAAMDAU4oBAAAAAAAw8JRiAAAAAAAADLwJUYpV1TOq6qaq+klVndzvPAAAAAAAAEws474Uq6r1k3woyTOTPCbJUVX1mP6mAgAAAAAAYCIZ96VYkick+Ulr7X9ba79P8pkkh/c5EwAAAAAAABPIRCjFtkvy8yGvb+mOAQAAAAAAwLBUa63fGdaqql6Y5OmtteO6r1+a5Amttb8bMuf4JMd3X+6S5KYxD8og2yrJb/odAqAPfP8Bk5XvP2Ay8x0ITFa+/2BwPLK1tvXqTkwZ6yTr4JYkOwx5vX2SXw6d0Fo7J8k5YxmKyaOq5rXW9ul3DoCx5vsPmKx8/wGTme9AYLLy/QeTw0TYPvG7SXauqh2rasMkL0nyxT5nAgAAAAAAYAIZ9yvFWmv3VtXrknw9yfpJzm2t/ajPsQAAAAAAAJhAxn0pliStta8k+Uq/czBp2ZoTmKx8/wGTle8/YDLzHQhMVr7/YBKo1lq/MwAAAAAAAMComgj3FAMAAAAAAIARUYoxqVTVkn5nAOiHod9/VfWsqlpQVY/oZyaAXqiqVlX/OuT1lKq6raoueYD3HfxAcx5kjodX1UW9uh5Ar1XVjKq6YZWxU6vqjd3nU6rqN1X1z6vMmVtVN1XV9d2H7zpgwlnbd2BV7VdVV3e/4+ZX1amrzHt/Vf2iqvxbOgyACXFPMQCgN6rqKUn+JcmhrbWbhzG/0tlu+b5RDwewbpYm2b2qNmmt3Z3kaUl+MdYhWmu/TPKCsf65AD10aJKbkryoqt7aVr7fxtGttXl9ygUw2s5L8qLW2verav0ku6w40S3Cjkzy8yQHJZnbl4RAz2i3mXSqalpVXVpV36uqH1bV4d3xGVV1Y1WdV1U/qKqLqmpq99zbq+q7VXVDVZ3T/UfiFb8x956quqaqflxVB/bzswGsTfc76mNJnt1a+5/u2Mzud9sNVXVid2xG97fjPpzke0l2qKo3db8Hf1BVs4Zc8/NVdW1V/aiqju/DxwJIkq8meXb3+VFJZq84UVVPqKr/qqrrusddVn3zmuZU1RVVtfeQed+uqj2r6i+HrJi4rqqmD/3t4+7zK7p/3vxeVe0/mh8eoEeOSvL+JDcn2a/PWQDG0sOS/CpJWmt/aK3995BzhyS5IcnZ6XxPAhOcUozJaFmSI1trf5HO/7G9d0XJlc5vgpzTWtszye+SvLY7/sHW2uNba7sn2STJYUOuN6W19oQkJyY5ZSw+AMA62CjJF5Ic0Vq7MUmq6nFJXp5k33T+4eNVVfXY7vxdkpzfWnts9/nOSZ6QZO8kj6uqg7rzXtFae1ySfZK8vqq2HKPPAzDUZ5K8pKo2TrJnkquHnLsxyUHd77O3J3n3at6/pjkfT3JsklTVo5Ns1Fr7QZI3Jvnb1treSQ5Mcvcq17s1ydO6f958cZIPjPQDAoymqtokyVOSXJLOLxas+g+/Fwz5ZYDTxzwgwOh6X5Kbquriqvqb7p8pV1jxC1cXJzmsqjboS0KgZ5RiTEaV5N1V9YMk30yyXZJtuud+3lr7dvf5p5Mc0H1+SHdv4R8meXKSPx9yvc91j9cmmTGawQFG4J4k/5XklUPGDkhycWttaWttSTrfZytWvP6stXZV9/mh3cd16awc2zWdkizpFGHfT3JVkh2GjAOMmW5RNSOdf7T4yiqnN0/y791VXO/Lyn+Oe6A5/54//uPHK5J8qjv+7SRnVtXrkzyktXbvKtfbIMnHun92/Pckj1n3TwfQM20t44cluay1dleS/0hyZHcLsRWObq3t3X28abSDAoyCNX4Httbekc4ves5J8ldJvpYkVbVhkmcl+Xxr7Xfp/OLVoWOQFRhF7inGZHR0kq2TPK61dk9VLUyy4jdAVv0/yNb97ZAPJ9mntfbz7s02h/7GyPLu8Q/xvylg/LovyYuSfLN7j4h3p/NLAmuydMjzSvLPrbWPDp1QVQcneWqSJ7bW7qqquVn5+xFgLH0xyRlJDk4ydNXqO9P5h94jq2pGVn8fiNXO6X63fSPJ4el8h+7THT+tqr6czj+SXFVVT01nN4IV3pDk10n2SucXEYeeA+iX25M8dJWxLZL8NJ1fKnhS9+/HSed79JB0fpEUYBCs7Tsw3VsMnF1VH0tyW3cXlCel88tTP+xuMjU1yV1JvjxWoYHes1KMyWjzJLd2C7FDkjxyyLlHVNUTu8+PSnJl/vgPvL+pqmlxA3Vggur+5u9hSY6uqlcmuTzJEVU1tao2TefmwVes5q1fT/KK7ndgqmq7qnpYOt+nd3b/0XjXuPcE0F/nJnlHa+2Hq4xvnuQX3efHruG9a5vz8XS2P/xua+2OJKmqnVprP2ytvSfJvHRW0K56vV+11u5L8tIk6wegz7o7A/yqqp6SJFW1RZJnJLk+nR0EHtFam9Fam5Hkb+PeOcAAWct34JVV9ewht1bZOZ1ffP9tOt+Dxw35btwxyaFVNXWs8wO9oxRj0qiqKems6rogyT5VNS+dVWM3Dpk2P8kx3a0Vt0hydmvtt0k+luSHST6f5LtjGBugp7r/oPuMJP+QznaHn0pyTTrbQHy8tXbdat4zJ8m/JflOdyuwi5JMT2dLiSnd78x3prOFIkBftNZuaa29fzWn/r8k/1xV386ay6k1zmmtXZvOvWY/OWT4xKq6obt97N1JvrrK9T6czp8pr0ry6Ky8+hagn16W5B+q6vok30oyK8ljk3yrtbZ8yLwvJHluVW3UfT30nmJWjwET1Z98B3ZXiL00nXuKXZ/kX9P598KNkjw9Q1aFtdaWpvML9M8Z29hAL1Vra9pOFQZLVe2V5GOttSes4fyMJJe01nYf02AAAIxbVfXwdLZT3LW78gsAAIAJykoxJoWqenWS2emsjAAAgAdUVS9LZyXt2xRiAAAAE5+VYgAAAAAAAAw8K8UAAAAAAAAYeEoxAAAAAAAABp5SDAAAAAAAgIGnFAMAABglVbV/VX2mqm6pquVV9auquqyqXl1V64+DfKd2H0f0OwsAAMBoq9ZavzMAAAAMnKr6xySzktQapjy0tfbbsUv0p6pqxV8Iz2utHdvPLAAAAKPNSjEAAIAeq6rnJ3lHOoXYrUmen2TTJA9J8twk/9W3cCNQVRtWlb9HAgAAE5K/zAAAAPTe24c8P6a19rnW2l2ttUWttS8lOSDJoiSpqudU1X9W1e+qallV/bCq3jh0e8Wq+lRVtSEru1aMt+7jU0PGFnbH5lbVC6rqR1V1V1VdXVWP6845eJVrHTPkWseueu2qOqmqbk6yLMlbu+N/qKpHDPm5Ow95z4k9+u8IAADQM0oxAACAHqqq/5dkz+7Lm1prX1t1Tuuqqtck+WKSg5JMT7JRkt2TnJ7k30YY5bFJLkzymCSbJHlCkouraoMHeZ3nJjkjyQ7prHz7WJJ70vn75LFD5j2/e7w3yex1Tg0AADBKlGIAAAC99cghz29c06Sqmp7kPd2Xv0iyV5JtknyrO/aiqjp4BDk2S/IPSR6a5FPdsR2S7Ntam9taG3qvs/Naa9V9fGrly+ShSd6aZPMkuyW5I8nF3XPHVtWK66woxea01n49gtwAAACjQikGAADQH/unszosST7WWvtBa+3WdO5FtsKhI7j+/yU5rbX223RWjK2ww4O8zo9aa//cWvtda+3G1to9Sc7untsxycHdbRT36Y796wgyAwAAjBqlGAAAQG/9bMjzXdYyb6shz38+5PktQ55vvaY3D73n2Br8T2vtvu7zZUPGN3qA963qhlUHWmtzk8zvvnxFkud1n/8uyRce5PUBAADGhFIMAACgh1pr/5fkB92Xu1bVn6z26m45+JshQ9uv4fmKOcuHvHfj7tMZDxDl3qGxHmDu2ixbw/hHusfnJ3lZ9/lFrbW7R/CzAAAARo1SDAAAoPdmDXl+flUdUVVTq2qzqnpOkv9KZ6XVku6cV1XVHlW1dTr3AVthTvc4dPXY06tqvXTu8zVSd3aPj6qqTR7ke89LcleSTZI8tjt2fg8yAQAAjAqlGAAAQI+11j6X5O3dl9skuTjJ0iSLknwxyX7pbDX4lu6c7dNZXXZrkqd2xy5qrV3Wff65/HG118Xd9x7Vg6jf7R6flOSuqmpV9ajhvLG1tijJ7CFDP0tyeQ8yAQAAjAqlGAAAwChorb0zyQFJLkzyyyT3JPl1kv9M8toki1trH0xyZJIr0lk1tjzJfyd5c4aUXq21H6WzReGC7pxrkxzUg5ivTzI3yeJ1fP/ZQ55/urU2km0aAQAARlX5OwsAAADroqoOS/KlJPcl2aW19pM+RwIAAFgjK8UAAAB4UKrqyKpakOTz3aF/V4gBAADj3ZR+BwAAAGDC2TzJo9LZ8nFOklf3Nw4AAMADs30iAAAAAAAAA8/2iQAAAAAAAAw8pRgAAAAAAAADTykGAAAAAADAwFOKAQAAAAAAMPCUYgAAAAAAAAw8pRgAAAAAAAAD7/8HEuuwkndcwlkAAAAASUVORK5CYII=\n",
>>>>>>> 92834599919a7013012a7a9a56191db85188f252
      "text/plain": [
       "<Figure size 2160x576 with 1 Axes>"
      ]
     },
     "metadata": {
      "needs_background": "light"
     },
     "output_type": "display_data"
    }
   ],
   "source": [
    "# GOOD or BAD Word Count per article visualization \n",
    "# # set width of bar\n",
    "barWidth = 0.15\n",
    "fig = plt.subplots(figsize =(30, 8))\n",
    " \n",
    "# set height of bar\n",
    "# articlesJapan = data['byArticleWordCountG'][0]\n",
    " \n",
    "# Set position of bar on X axis\n",
    "br1 = np.arange(number_of_articles)\n",
    "br2 = [x + barWidth for x in br1]\n",
    "br3 = [x + barWidth for x in br2]\n",
    "br4 = [x + barWidth for x in br3]\n",
    "br5 = [x + barWidth for x in br4]\n",
    " \n",
<<<<<<< HEAD
    "# Make the good word count plot\n",
=======
    "# Make the plot\n",
>>>>>>> 92834599919a7013012a7a9a56191db85188f252
    "plt.bar(br1, data['byArticleWordCountG'][0], color ='darkgoldenrod', width = barWidth,\n",
    "        edgecolor ='grey', label ='Japan')\n",
    "plt.bar(br2, data['byArticleWordCountG'][1], color ='rosybrown', width = barWidth,\n",
    "        edgecolor ='grey', label ='Korea')\n",
    "plt.bar(br3, data['byArticleWordCountG'][2], color ='orange', width = barWidth,\n",
    "        edgecolor ='grey', label ='Malaysia')\n",
    "plt.bar(br4, data['byArticleWordCountG'][3], color ='darkgrey', width = barWidth,\n",
    "        edgecolor ='grey', label ='UAE')\n",
    "plt.bar(br5, data['byArticleWordCountG'][4], color ='gold', width = barWidth,\n",
<<<<<<< HEAD
    "        edgecolor ='grey', label ='Mexico')\n",
=======
    "        edgecolor ='grey', label ='USA')\n",
>>>>>>> 92834599919a7013012a7a9a56191db85188f252
    " \n",
    "# Adding Xticks\n",
    "plt.xlabel('Country', fontweight ='bold', fontsize = 15)\n",
    "plt.ylabel('Good Words Count', fontweight ='bold', fontsize = 15)\n",
<<<<<<< HEAD
    "plt.xticks([r + barWidth for r in range(len(br1))],\n",
    "        ['Japan', 'Korea', 'Malaysia', 'UAE', 'Mexico'])\n",
=======
    "plt.xticks([r + barWidth for r in range(len(IT))],\n",
    "        ['Japan', 'Korea', 'Malaysia', 'UAE', 'USA'])\n",
>>>>>>> 92834599919a7013012a7a9a56191db85188f252
    " \n",
    "plt.legend()\n",
    "plt.show()"
   ]
  },
  {
   "cell_type": "code",
<<<<<<< HEAD
   "execution_count": 20,
=======
   "execution_count": 351,
>>>>>>> 92834599919a7013012a7a9a56191db85188f252
   "id": "84fd2bf4",
   "metadata": {},
   "outputs": [
    {
     "data": {
<<<<<<< HEAD
      "image/png": "iVBORw0KGgoAAAANSUhEUgAABr8AAAHlCAYAAABMPedgAAAAOXRFWHRTb2Z0d2FyZQBNYXRwbG90bGliIHZlcnNpb24zLjMuNCwgaHR0cHM6Ly9tYXRwbG90bGliLm9yZy8QVMy6AAAACXBIWXMAAAsTAAALEwEAmpwYAAA/GklEQVR4nO3deZRdZZ027PsXQEJIiEwiEjC2jYgNATQCIiCgqPgig9KNNK04IE07gQyKdiuJU2ODyOs8oqB0BG1xRkEkAi0gIAj4gcZ+OyCCgigBAomAz/dHncQiJOFUpapOcnJda9Xa++z97F33YS2PVXXneXa11gIAAAAAAAD9YFyvAwAAAAAAAMBIUX4BAAAAAADQN5RfAAAAAAAA9A3lFwAAAAAAAH1D+QUAAAAAAEDfUH4BAAAAAADQN9bsdYDh2mijjdrUqVN7HQMAAAAAAIAxdvXVV/+htbbx0s6tsuXX1KlTc9VVV/U6BgAAAAAAAGOsqm5e1jnLHgIAAAAAANA3lF8AAAAAAAD0DeUXAAAAAAAAfWOVfeYXAAAAAADAquDBBx/MrbfemgULFvQ6yipn/PjxmTJlStZaa62ur1F+AQAAAAAAjKJbb701kyZNytSpU1NVvY6zymit5a677sqtt96apzzlKV1fZ9lDAAAAAACAUbRgwYJsuOGGiq8hqqpsuOGGQ54xp/wCAAAAAAAYZYqv4RnOfzflFwAAAAAAwGpg4sSJvY4wJjzzCwAAAAAAYAydesoHc+/8oS3ltzyT1h2fY457+4jdb1Wn/AIAAAAAABhD985fkJ0fd/KI3e/y+cd3Pfa+++7L/vvvnz/96U958MEH8773vS/7779/5s6dmxe/+MXZaaedcs011+RpT3tazjzzzEyYMCHvec978u1vfzsPPPBAdtlll3z6059OVWWPPfbITjvtlIsuuih33313Pv/5z2e33XYbsfc1XJY9BAAAAAAAWE2MHz8+5557bn72s5/loosuyrHHHpvWWpLkl7/8ZY444ohcd911WW+99fKJT3wiSfKmN70pV155ZW644YY88MAD+c53vrP4fg899FB++tOf5rTTTsvMmTN78p6WpPwCAAAAAABYTbTW8s53vjPTpk3LC17wgvz2t7/N73//+yTJ5ptvnuc+97lJkn/6p3/KpZdemiS56KKLstNOO2XbbbfNj370o/ziF79YfL+XvexlSZJnPetZmTt37ti+mWWw7CEAAAAAAMBq4qyzzsqdd96Zq6++OmuttVamTp2aBQsGnj9WVY8YW1VZsGBB3vCGN+Sqq67K5ptvnhkzZiwenyRrr712kmSNNdbIQw89NHZvZDnM/AIAAAAAAFhNzJs3L094whOy1lpr5aKLLsrNN9+8+Nwtt9ySyy67LEkya9as7LrrrouLro022ij33Xdfvva1r/Uk91AovwAAAAAAAPrcQw89lLXXXjuHHnporrrqqkyfPj1nnXVWnv70py8es/XWW+eMM87ItGnT8sc//jH/8i//ksc//vF5/etfn2233TYHHHBAnv3sZ/fwXXTHsocAAAAAAABjaNK643P5/ONH9H6P5Re/+EWe+tSnZqONNlo8u2uwuXPnZty4cfnUpz71qHPve9/78r73ve9Rx2fPnr14f6ONNvLMLwAAAAAAgNXRMce9fUy/36c+9al85CMfyWmnnTam37dXlF8AAAAAAAB97Mgjj8yRRx653DFTp07NDTfcMEaJRpdnfgEAAAAAANA3zPwCAIA+deopH8y98xf0OsawTVp3/JgvBQIAAMCqT/kFAAB96t75C7Lz407udYxhG8mHPwMAALD6sOwhAAAAAAAAfUP5BQAAAAAA0OcmTpy4eP973/tettxyy9xyyy09TDR6LHsIAAAAAAAwhk790Idy7333jdj9Jk2cmGOOPbarsRdeeGHe/OY35/zzz88WW2zxmONba2mtZdy4VWc+lfILAAAAAABgDN17333ZdfLkEbvfpfPmdTXukksuyetf//p873vfy1Of+tQkyamnnprTTz89SXL44Yfn6KOPzty5c7PPPvtkzz33zGWXXZZvfOMbOeecc3LOOedk4cKFOfDAAzNz5swkyQEHHJDf/OY3WbBgQY466qgcccQRI/a+hkv5BQAAAAAA0OcWLlyY/fffP7Nnz87Tn/70JMnVV1+dL3zhC7niiivSWstOO+2U5z3veVl//fXzy1/+Ml/4whfyiU98Iueff37mzJmTn/70p2mtZb/99svFF1+c3XffPaeffno22GCDPPDAA3n2s5+dl7/85dlwww17+l5XnTlqAAAAAAAADMtaa62VXXbZJZ///OcXH7v00ktz4IEHZt11183EiRPzspe9LJdcckmS5MlPfnJ23nnnJMn555+f888/PzvssEOe+cxn5qabbsqcOXOSJB/5yEey3XbbZeedd85vfvObxcd7ycwvAAAAAACAPjdu3Licc845ecELXpAPfOADeec735nW2jLHr7vuuov3W2t5xzvekX/+539+xJjZs2fnhz/8YS677LJMmDAhe+yxRxYsWDBq76FbZn4BAAAAAACsBiZMmJDvfOc7Oeuss/L5z38+u+++e77xjW/k/vvvz/z583Puuedmt912e9R1L3rRi3L66afnvvvuS5L89re/zR133JF58+Zl/fXXz4QJE3LTTTfl8ssvH+u3tFRmfgEAAAAAAKwmNthgg3z/+9/P7rvvntNOOy2vfvWrs+OOOyZJDj/88Oywww6ZO3fuI6554QtfmBtvvDHPec5zkiQTJ07Ml7/85bz4xS/Opz71qUybNi1bbbXV4mUSe035BQAAAAAAMIYmTZyYS+fNG9H7PZZFs7aSZPPNN8///u//Ln59zDHHPGLs1KlTc8MNNzzi2FFHHZWjjjrqUfc977zzhhp31Cm/AAAAAAAAxtAxxx7b6wh9zTO/AAAAAAAA6BvKLwAAAAAAAPqG8gsAAAAAAIC+ofwCAAAAAACgbyi/AAAAAAAA6BvKLwAAAAAAgD5XVXnlK1+5+PVDDz2UjTfeOPvuu+9yr5s9e/ZjjhmK2267LQcddNCI3W9p1hzVuy9FVc1Ncm+Sh5M81FqbXlUbJDk7ydQkc5P8Q2vtT2OdDQAAAAAAYLSd9qGTMu++hSN2v8kT187Rx56w3DHrrrtubrjhhjzwwANZZ511csEFF2SzzTYbsQzdetKTnpSvfe1ro/o9xrz86tiztfaHQa9PSHJha+2kqjqh8/rtvYkGAAAAAAAweubdtzAnbjljxO43c05399pnn33y3e9+NwcddFBmzZqVQw45JJdcckmS5Kc//WmOPvroxeXYF77whWy11VaPuH5ZY3bbbbd89KMfzfbbb58kee5zn5tPfvKT+dOf/pSjjjoqycDMs4svvjh33XVX9t1339xwww2ZO3duXvnKV2b+/PlJko997GPZZZddVvi/x8qy7OH+Sc7o7J+R5IDeRQEAAAAAAOg/r3jFK/KVr3wlCxYsyHXXXZeddtpp8bmnP/3pufjii3PNNdfkPe95T975znc+6vpljTn88MPzxS9+MUnyq1/9KgsXLsy0adNyyimn5OMf/3iuvfbaXHLJJVlnnXUecb8nPOEJueCCC/Kzn/0sZ599dt7ylreMyPvsxcyvluT8qmpJPt1a+0ySTVprtydJa+32qnpCD3IBAAAAAAD0rWnTpmXu3LmZNWtWXvKSlzzi3Lx583LYYYdlzpw5qao8+OCDj7p+WWP+/u//Pu9973tz8skn5/TTT8+rX/3qJAMzwI455pgceuihednLXpYpU6Y84n4PPvhg3vSmN+Xaa6/NGmuskV/96lcj8j57MfPrua21ZybZJ8kbq2r3bi+sqiOq6qqquurOO+8cvYQAAAAAAAB9aL/99stxxx2XQw455BHH3/Wud2XPPffMDTfckG9/+9tZsGDBo65d1pgJEyZk7733zje/+c2cc845+cd//MckyQknnJDPfe5zeeCBB7LzzjvnpptuesT9PvzhD2eTTTbJz3/+81x11VX585//PCLvccxnfrXWbuts76iqc5PsmOT3VbVpZ9bXpknuWMa1n0nymSSZPn16G6vMAAAAAAAA/eC1r31tJk+enG233TazZ89efHzevHnZbLPNkmTxEoZLWt6Yww8/PC996Uuz2267ZYMNNkiS/M///E+23XbbbLvttrnsssty0003LX4u2KL7TZkyJePGjcsZZ5yRhx9+eETe45jO/Kqqdatq0qL9JC9MckOSbyU5rDPssCTfHMtcAAAAAAAAq4MpU6bkqKOOetTxt73tbXnHO96R5z73ucssoZY35lnPelbWW2+9vOY1r1l87LTTTss222yT7bbbLuuss0722WefR1zzhje8IWeccUZ23nnn/OpXv8q66647Au8wqdbGbgJVVf1NknM7L9dM8p+ttfdX1YZJzkmyRZJbkvx9a+2Py7vX9OnT21VXXTWqeQEAYFU2c+bM7Py4k3sdY9gu//PxOfHEE3sdAwAAYIXdeOON2XrrrRe/Pu1DJ2XefQtH7P6TJ66do489YcTuNxy33XZb9thjj9x0000ZN25k514t+d8vSarq6tba9KWNH9NlD1tr/y/Jdks5fleS549lFgAAAAAAgF7odVE10s4888z867/+a0499dQRL76GY8yf+QUAAAAAAED/eNWrXpVXvepVvY6xWO/rNwAAAAAAABghyi8AAAAAAAD6hvILAAAAAACAvqH8AgAAAAAAoG8ovwAAAAAAAPrc3Llzs8022zzi2IwZM3LKKackSR566KFstNFGecc73vGIMXvssUe22mqrbL/99tl+++1z0EEHjVnm4Vqz1wEAAAAAAABWJ6eeemruvffeEbvfpEmTcswxx6zQPc4///xstdVWOeecc/KBD3wgVbX43FlnnZXp06evaMwxo/wCAAAAAAAYQ/fee2+23nrrEbvfjTfeuML3mDVrVo466qh88pOfzOWXX57nPOc5I5CsN5RfAAAAAAAAq7EHHnggF154YT796U/n7rvvzqxZsx5Rfh166KFZZ511kiR77713Tj755F5F7YryCwAAAAAAoM8NXsZwyePf+c53sueee2bChAl5+ctfnve+97358Ic/nDXWWCPJqrfs4bheBwAAAAAAAGB0bbjhhvnTn/70iGN//OMfs9FGG2XWrFn54Q9/mKlTp+ZZz3pW7rrrrlx00UU9SrrilF8AAAAAAAB9buLEidl0001z4YUXJhkovr7//e9n++23z6WXXppbbrklc+fOzdy5c/Pxj388s2bN6nHi4bPsIQAAAAAAwGrgzDPPzBvf+MYce+yxSZITTzwx11xzTfbaa6+svfbai8ftv//+edvb3paFCxcmeeQzvzbaaKP88Ic/HPvwQ6D8AgAAAAAAGEOTJk3KjTfeOKL368YznvGMpS5n+OpXv/oRrzfYYIPceeedSZLZs2evaLwxp/wCAAAAAAAYQ8ccc0yvI/Q1z/wCAAAAAACgbyi/AAAAAAAA6BvKLwAAAAAAAPqG8gsAAAAAAIC+ofwCAAAAAACgbyi/AAAAAAAA+lxV5ZWvfOXi1w899FA23njj7LvvvsO636c+9amceeaZIxVvRK3Z6wAAAAAAAACrk9M+fFLm3bNwxO43eb21c/RbT1jumHXXXTc33HBDHnjggayzzjq54IILstlmmw37ex555JHDvna0Kb8AAAAAAADG0Lx7FubEg2eM2P1mnt3dvfbZZ59897vfzUEHHZRZs2blkEMOySWXXJIkmT9/ft785jfn+uuvz0MPPZQZM2Zk//33z1ve8pZstNFGefe7350f/OAHef/735/Zs2fnPe95TyZOnJjjjjsuv/71r3PkkUfmzjvvzBprrJGvfvWr+Zu/+Zu87W1vy3nnnZeqyr/927/l4IMPHrH3vDyWPQQAAAAAAFgNvOIVr8hXvvKVLFiwINddd1122mmnxefe//73Z6+99sqVV16Ziy66KMcff3zmz5+fk046KWeffXYuuuiivOUtb8kXvvCFjBv3yHrp0EMPzRvf+Mb8/Oc/z09+8pNsuumm+frXv55rr702P//5z/PDH/4wxx9/fG6//fYxeZ/KLwAAAAAAgNXAtGnTMnfu3MyaNSsveclLHnHu/PPPz0knnZTtt98+e+yxRxYsWJBbbrklEyZMyGc/+9nsvffeedOb3pSnPvWpj7ju3nvvzW9/+9sceOCBSZLx48dnwoQJufTSS3PIIYdkjTXWyCabbJLnPe95ufLKK8fkfVr2EAAAAAAAYDWx33775bjjjsvs2bNz1113LT7eWst//dd/ZauttnrUNddff3023HDD3HbbbY8611pb6vdZ1vGxYOYXAAAAAADAauK1r31t3v3ud2fbbbd9xPEXvehF+ehHP7q4tLrmmmuSJDfffHM+9KEP5Zprrsl5552XK6644hHXrbfeepkyZUq+8Y1vJEkWLlyY+++/P7vvvnvOPvvsPPzww7nzzjtz8cUXZ8cddxz9NxjlFwAAAAAAwGpjypQpOeqoox51/F3velcefPDBTJs2Ldtss03e9a53pbWW173udTnllFPypCc9KZ///Odz+OGHZ8GCBY+49ktf+lI+8pGPZNq0adlll13yu9/9LgceeGCmTZuW7bbbLnvttVf+4z/+I0984hPH5D1WL6edrYjp06e3q666qtcxAABgpTVz5szs/LiTex1j2C7/8/E58cQTex0DAABghd14443ZeuutF78+7cMnZd49C0fs/pPXWztHv/WEEbvfymbJ/35JUlVXt9amL228Z34BAAAAAACMoX4uqlYGlj0EAAAAAACgbyi/AAAAAAAA6BvKLwAAAAAAgFHWWut1hFXScP67Kb8AAAAAAABG0fjx43PXXXcpwIaotZa77ror48ePH9J1a45SHgAAAAAAAJJMmTIlt956a+68885eR1nljB8/PlOmTBnSNcovAAAAAACAUbTWWmvlKU95Sq9jrDYsewgAAAAAAEDfUH4BAAAAAADQN5RfAAAAAAAA9A3lFwAAAAAAAH1D+QUAAAAAAEDfUH4BAAAAAADQN5RfAAAAAAAA9A3lFwAAAAAAAH1D+QUAAAAAAEDfUH4BAAAAAADQN5RfAAAAAAAA9A3lFwAAAAAAAH1D+QUAAAAAAEDfUH4BAAAAAADQN5RfAAAAAAAA9A3lFwAAAAAAAH1D+QUAAAAAAEDfUH4BAAAAAADQN5RfAAAAAAAA9A3lFwAAAAAAAH1D+QUAAAAAAEDfUH4BAAAAAADQN5RfAAAAAAAA9A3lFwAAAAAAAH1D+QUAAAAAAEDfUH4BAAAAAADQN5RfAAAAAAAA9A3lFwAAAAAAAH1D+QUAAAAAAEDfUH4BAAAAAADQN5RfAAAAAAAA9A3lFwAAAAAAAH1D+QUAAAAAAEDf6En5VVVrVNU1VfWdzusNquqCqprT2a7fi1wAAAAAAACs2no18+uoJDcOen1Ckgtba1smubDzGgAAAAAAAIZkzMuvqpqS5P8k+dygw/snOaOzf0aSA8Y4FgAAAAAAAH2gFzO/TkvytiR/GXRsk9ba7UnS2T6hB7kAAAAAAABYxY1p+VVV+ya5o7V29TCvP6Kqrqqqq+68884RTgcAAAAAAMCqbqxnfj03yX5VNTfJV5LsVVVfTvL7qto0STrbO5Z2cWvtM6216a216RtvvPFYZQYAAAAAAGAVMablV2vtHa21Ka21qUlekeRHrbV/SvKtJId1hh2W5JtjmQsAAAAAAID+0Itnfi3NSUn2rqo5SfbuvAYAAAAAAIAhWbNX37i1NjvJ7M7+XUme36ssAAAAAAAA9IeVZeYXAAAAAAAArDDlFwAAAAAAAH1D+QUAAAAAAEDfUH4BAAAAAADQN5RfAAAAAAAA9A3lFwAAAAAAAH1D+QUAAAAAAEDfUH4BAAAAAADQN5RfAAAAAAAA9A3lFwAAAAAAAH1D+QUAAAAAAEDfUH4BAAAAAADQN5RfAAAAAAAA9A3lFwAAAAAAAH1D+QUAAAAAAEDfUH4BAAAAAADQN5RfAAAAAAAA9A3lFwAAAAAAAH2jq/Krqraoqi1GOwwAAAAAAACsiDW7HDc3yV+WNr6qfpPkL621J49gLgAAAAAAABiybsuvJKlHHagal2SzJG3EEgEAAAAAAMAwLbP8qqppSbZf4tirlhj2jM72zyMbCwAAAAAAAIZueTO/Dkzy7kGvK8kXljKuJZkzkqEAAAAAAABgOB5r2cNFSx22JV4P9qckbx+xRAAAAAAAADBMyyu/vphkdgYKrx9loADbc9D5loHi69ettQdGKR8AAAAAAAB0bZnlV2vt5iQ3J0lVvWfgUPvxWAUDAAAAAACAoXqsZQ+TJK21GYv2q2qTJGsvZcwtIxcLAAAAAAAAhq6r8quqNkzy0SQvS7LWUoa0bu8FAAAAAAAAo6XbwuqzSQ4YxRwAAAAAAACwwrotv/bMwOyuG5Kcl2RB5zUAAAAAAACsNLotv+5Psl6S57fW/jCKeQAAAAAAAGDYxnU57jOd7Q6jFQQAAAAAAABWVLczv8YluSfJN6vqm0nmJHlo8IDW2ntGOBsAAAAAAAAMSbfl17vy12d8/cMyxii/AAAAAAAA6Kluy68kqeWca8s5BwAAAAAAAGOi2/LrKaOaAgAAAAAAAEZAV+VXa+3m0Q4CAAAAAAAAK6qr8quqXvVYY1prZ654HAAAAAAAABi+bpc9/GKW/1yvlkT5BQAAAAAAQE91W34lSY1aCgAAAAAAABgB3ZZfey7xeo0kU5O8OcmWSV4zgpkAAAAAAABgWLoqv1prP17a8ar6epLfJdkvyVdHMBcAAAAAAAAM2bgVvH58Z/vSFQ0CAAAAAAAAK6qrmV9V9aOlHB6fZJskj0ty10iGAgAAAAAAgOHo9plfeyRpSzlene2XRiQNAAAAAAAArIBuy69b8ujya2GSW5N8LclnRzIUAAAAAAAADEdX5Vdrbeoo5wAAAAAAAIAV1u3MryRJVa2b5DlJNk7yhyQ/aa3NH41gAAAAAAAAMFRdl19V9c9JPphk0qDD91XVCa21T454MgAAAAAAABiicd0MqqqXJvlkkvWS1KCvSUk+VlX7jVpCAAAAAAAA6FK3M7+O62xvS/KZJLcmmZLk8M72uCTfGvF0AAAAAAAAMATdll87JGlJXtxau2HRwar6epLrkmw/8tEAAAAAAABgaLpa9jB/Lcl+t8Tx3y9xHgAAAAAAAHqm2/JrTmf7n1W1W1VNrapdk3y5c/zXIx8NAAAAAAAAhqbbGVtnJjk5yfM7X4O1JGeMZCgAAAAAAAAYjm5nfn04yVeT1FK+vt45DwAAAAAAAD3V1cyv1tpfkhxcVZ9I8qIkGyX5Q5LzW2uzRy8eAAAAAAAAdK/bZQ+TJK21Hyf58ShlAQAAAAAAgBWyzGUPq+pFVfWzqvpGVdVSzo+rqm92xrxodGMCAAAAAADAY1veM79en2S7JN9prbUlT3aWQvxuku2THD4q6QAAAAAAAGAIlld+Pauz/fZyxnyrs50+MnEAAAAAAABg+JZXfm3a2d61nDGLzj1xZOIAAAAAAADA8C2v/Lq3s91+OWO262zvG5E0AAAAAAAAsAKWV35dk6SSfLSqNljyZOfYR5O0zlgAAAAAAADoqTWXc+6LSV6QZMck/1tVZyW5qXNuqySHJpnUef2F0QoIAAAAAAAA3Vpe+TUryT8meUmSiUn+eYnz1dl+t7U2axSyAQAAAAAAwJAsc9nD1lpL8rIkH0/yUAbKrsFfD2Zg2cOXj35MAAAAAAAAeGzLm/mV1tqfk7y5qt6bZK8kW3RO3ZzkR621O0c5HwAAAAAAAHRtueXXIq21O5J8ZZSzAAAAAAAAwApZ5rKHAAAAAAAAsKoZ0/KrqsZX1U+r6udV9Yuqmtk5vkFVXVBVczrb9ccyFwAAAAAAAP1hrGd+LUyyV2ttuyTbJ3lxVe2c5IQkF7bWtkxyYec1AAAAAAAADMmYll9twH2dl2t1vlqS/ZOc0Tl+RpIDxjIXAAAAAAAA/WHMn/lVVWtU1bVJ7khyQWvtiiSbtNZuT5LO9gnLuPaIqrqqqq668847xywzAAAAAAAAq4auyq+qemJVPbOqpnZeb1FVn66qr1fV64fyDVtrD7fWtk8yJcmOVbXNEK79TGttemtt+sYbbzyUbwsAAAAAAMBqoNuZX/+R5Mokf995fX6SwzOwXOGnqurIoX7j1trdSWYneXGS31fVpknS2d4x1PsBAAAAAABAt+XXszvb86pq+yRPSzI/yW+SVAaKsMdUVRtX1eM7++skeUGSm5J8K8lhnWGHJflml7kAAAAAAABgsTW7HLdZZ/v/kvxDZ39mknOS3Jzkb7q8z6ZJzqiqNTJQvJ3TWvtOVV2W5Jyqel2SW/LXGWYAAAAAAADQtW7Lr0UzxNZMsm2SluT6JL/vHF+7m5u01q5LssNSjt+V5PldZgEAAAAAAICl6rb8uiXJVkm+m+TvOseuT/Kkzv6dI5wLAAAAAAAAhqzbZ37NysCzvZ6b5PFJLm2t3Z5kl875a0Y+GgAAAAAAAAxNtzO/3p/kzxkov25O8t7O8XWTnJHkv0Y+GgAAAAAAAAxNV+VXa+0vST64lOOfTfLZkQ4FAAAAAAAAw7HM8quqdh/KjVprF694HAAAAAAAABi+5c38mp2kdXmf9hj3AgAAAAAAgFH3WIVVjUkKAAAAAAAAGAHLK79eM2j/cUlmJnkoyelJbkvypCSvTTI+ybtGKyAAAAAAAAB0a5nlV2vtjEX7VXVqkk2SbNNau3HQ8XOS3JDk70YzJAAAAAAAAHRjXJfjXtXZ3r3E8UWv/3EkwgAAAAAAAMCKeKxnfi057ttV9eEkv02yWZK3DvE+AAAAAAAAMGq6La3OSXJ4kh2SnLnEuZbk7JEMBQAAAAAAAMPR7bKHRyX5cgaKrhr01TrHjx6NcAAAAAAAADAUXc38aq09kORVVfXeJDsn2TTJ7Ukua639ehTzAQAAAAAAQNces/yqqvFJ/rvz8h9ba18a3UgAAAAAAAAwPI9ZfrXWFlTVU5JMTnLL6EcCAAAAAACA4en2mV9f62z3GKUcAAAAAAAAsMK6euZXkmuT3J3k7Ko6I8n1SRYMHtBaO3NEkwEAAAAAAMAQdVt+fSxJ6+y/YSnnWxLlFwAAAAAAAD3VbfmVJDVqKQAAAAAAAGAEdFt+7TmqKQAAAAAAAGAEdFV+tdZ+PNpBAAAAAAAAYEV1vexhVU1K8tYkL0yycZI/JPlBktNaa/eMTjwAAAAAAADoXlflV1VtkOS/kzxt0aEkf5tk5yT/WFW7tNb+ODoRAQAAAAAAoDvjuhw3I8lWGSi9Fia5tbOtJFt2zgMAAAAAAEBPdVt+7ZekJTkpyeNba1skeXzndXXOAwAAAAAAQE91W35t2tl+oLX25yTpbD+wxHkAAAAAAADomW7Lr7s72+cvcXyvznbeiKQBAAAAAACAFbBml+MuTvLyJF+rqouT/CbJlCTPy8ByiD8enXgAAAAAAADQvW7LrxlJ9kkyIckeg45XkvuTzBzRVAAAAAAAADAMXS172Fr7RQZmeV2cgZle1dlenGSP1toNo5YQAAAAAAAAurTMmV9V9ewk17bWHkyS1trVSfaoqnWSrJ/kT621B8YmJgAAAAAAADy25S17eEWShVV1bWf/iiRXtNb+XxKlFwAAAAAAACudx3rm19pJdux8vTlJquqPGVSGJflpa+3uUcwIAAAAAEAXTj3lg7l3/oJexxi2SeuOzzHHvb3XMYBV3PLKr3ck2TnJTkmeOOj4hkn26XwlSapqTmvt6aOSEAAAAACArtw7f0F2ftzJvY4xbJfPP77XEYA+sMzyq7X2wUX7VbVFBkqwRWXYM5OMHzR8y9EKCAAAAAAAAN16rGUPkySttVuS3FJVP8jAEoi7Jnltks2S1OjFAwAAAAAAgO4ts/yqqnFJpmVgpteir63y17Krkvwlyf+X5PLRjQkAAAAAAACPbXkzv+5Jsk5nf1HhdWeSKzJQdl2e5MrW2r2jFw8AAAAAAAC6t7zya0KS1tm/IMlprbXzRj8SAAAAAAAADM/yyq+7kzy+s/+CJC+oqruTXJnkpxmY+fXT1tofRjEfAAAAAAAAdG2Z5VdrbYOqelr++ryvnZNsm+SFna+WJFX1v0kub6390+jHBYChOfWUD+be+Qt6HWPYJq07Pscc9/ZexwAAAACAVcbyZn6ltfarJL9K8qUkqaq1kzwzyfOTHJFkSpK/SfKUJMovAFY6985fkJ0fd3KvYwzb5fOP73UEAAAAAFilLLf8WqSqnp6/zv7aKck2SdbIwOyvGrV0AAAAAAAAMATLLL+qamYGyq5nJ5m85OlB+w8nuX7kowEAAAAAAMDQLG/m17uy9Jldv01yxaCvq1pr949OPAAAAAAAAOjeYy17+ECSqzNQcl2e5IrW2m9HPRUAAAAAAAAMw/LKr2cmua619pexCgMAAAAAAAArYpnlV2vt2jHMAQAAAAAAACtsXK8DAAAAAAAAwEhRfgEAAAAAANA3lF8AAAAAAAD0DeUXAAAAAAAAfUP5BQAAAAAAQN9Yc1knqupHQ7hPa609fwTyAAAAAAAAwLAts/xKskeSNuh1LfH6sY4DAAAAAADAmFpe+XVLHllqbZhkYpI/J/ljkg2SPC7J/UnuGK2AAAAAAAAA0K1lPvOrtTa1tfaU1tpTkhyagRle708yubX2pCSTk/x75/hrxiIsAAAAAAAALM8yy68l/N8kE5J8sLW2MEk625OSrJPkQ6MTDwAAAAAAALrXbfm1TWf7D0scX/T670YmDgAAAAAAAAxft+XXrzvbz1bVnKqaXVVzknwmA88FmzMq6QAAAAAAAGAIui2/jk3yYAae7/XUJLt1ttU5fuyopAMAAAAAAIAh6Kr8aq2dn2T7JP+Z5H+TLOxsv5xku9baBaMVEAAAAAAAALq1ZrcDW2s3JfmnUcwCAAAAAAAAK6Tr8itJqmr9JFsmGb/kudbaxSMVCgAAAAAAAIajq/KrqiYk+XySv8/Ac76W1Lq9FwAAAAAAAIyWbgurE5McPJpBAAAAAAAAYEWN63LcyzIwu+uzndctyZuT3JTk10kOH/loAAAAAAAAMDTdll+bd7YnLDrQWvt4kgOT/G0GngMGAAAAAAAAPdVt+fVgZ3tPkoVJUlVPSnJH5/jrurlJVW1eVRdV1Y1V9YuqOqpzfIOquqCq5nS26w/hPQAAAAAAAECS7suvOzvbDZLM7eyfl+SCzn63zw57KMmxrbWtk+yc5I1V9YwMzCi7sLW2ZZILM2iGGQAAAAAAAHSr2/Lr2iSVZLsk53b2t0myQ+f897q5SWvt9tbazzr79ya5MclmSfZPckZn2BlJDugyFwAAAAAAACzW7YytE5J8OsmvklycZGKSg5I8Lsl3kxw11G9cVVMzUJ5dkWST1trtyUBBVlVPGOr9AAAAAAAAoKvyq7X2qwwUX4u8pfM1LFU1Mcl/JTm6tXZPVXV73RFJjkiSLbbYYrjfHgAAAAAAgD7V7bKHj1BVz66qg6vqeVU1pHtU1VoZKL7Oaq19vXP491W1aef8pknuWNq1rbXPtNamt9amb7zxxsOJDgAAAAAAQB9bZnFVVWtV1ceq6s6qureq/rOqNq6qi5JcnuQ/k/woydVVtWE336wGpnh9PsmNrbVTB536VpLDOvuHJfnmcN4MAAAAAAAAq7flzdp6e5I3JNkgybpJDk5yZZLnJalBX9OSnNjl93tuklcm2auqru18vSTJSUn2rqo5SfbuvAYAAAAAAIAhWd4zvw4atP/7JBsn2SJJS/KLJOcl2SfJNkleki6eAdZauzQDhdnSPL+LvAAAAAAAALBMy5v59dQMFF3Pb61tmmSvQef2ba29PclLO6+njFI+AAAAAAAA6Nryyq91k6S1NruzvXjRidbaLZ3tzZ1Da41SPgAAAAAAAOja8pY9TJJU1W5ZYqnCpR0DAAAAgNM+dFLm3bew1zGGbfLEtXP0sSf0OgYAsAIes/xKMnvQflvKMQAAAABIksy7b2FO3HJGr2MM28w5M3odAQBYQY9VfpndBQAAAAAAwCpjeeXXGWOWAgAAAAAAAEbAMsuv1tprxjIIAAAAAAAArKhxvQ4AAAAAAAAAI0X5BQAAAAAAQN9QfgEAAAAAANA3lvnMLwAAAIbvtA+dlHn3Lex1jGGbPHHtHH3sCb2OAQAAMGTKLwAAgFEw776FOXHLGb2OMWwz58zodQQAAIBhsewhAAAAAAAAfUP5BQAAAAAAQN9QfgEAAAAAANA3lF8AAAAAAAD0DeUXAAAAAAAAfUP5BQAAAAAAQN9Ys9cBYHVw2odOyrz7FvY6xrBNnrh2jj72hF7HAAAAWC2c+qEP5d777ut1jNVWVWXmzJm9jjFskyZNyjHHHNPrGADQU8ovGAPz7luYE7ec0esYwzZzzoxeRwAAAFht3Hvffdl18uRexxi2S+fN63WEFdJay9Zbb93rGMN244039joCAPScZQ8BAAAAAADoG8ovAAAAAAAA+obyCwAAAAAAgL6h/AIAAAAAAKBvKL8AAAAAAADoG8ovAAAAAAAA+saavQ7A2Dj1lA/m3vkLeh1j2CatOz7HHPf2XscAAAAAAEZRJZk5c2avYwzbpIkTc8yxx/Y6Bqz2lF+riXvnL8jOjzu51zGG7fL5x/c6AgAAAAAwylqSXSdP7nWMYbt03rxeRwBi2UMAAAAAAAD6iPILAAAAAACAvqH8AgAAAAAAoG8ovwAAAAAAAOgbyi8AAAAAAAD6hvILAAAAAACAvqH8AgAAAAAAoG8ovwAAAAAAAOgbyi8AAAAAAAD6hvILAAAAAACAvqH8AgAAAAAAoG8ovwAAAAAAAOgbyi8AAAAAAAD6hvILAAAAAACAvqH8AgAAAAAAoG8ovwAAAAAAAOgbyi8AAAAAAAD6hvILAAAAAACAvqH8AgAAAAAAoG8ovwAAAAAAAOgbyi8AAAAAAAD6hvILAAAAAACAvqH8AgAAAAAAoG8ovwAAAAAAAOgbyi8AAAAAAAD6hvILAAAAAACAvqH8AgAAAAAAoG8ovwAAAAAAAOgbyi8AAAAAAAD6hvILAAAAAACAvqH8AgAAAAAAoG8ovwAAAAAAAOgbyi8AAAAAAAD6hvILAAAAAACAvqH8AgAAAAAAoG8ovwAAAAAAAOgbyi8AAAAAAAD6hvILAAAAAACAvqH8AgAAAAAAoG8ovwAAAAAAAOgbyi8AAAAAAAD6xpiWX1V1elXdUVU3DDq2QVVdUFVzOtv1xzITAAAAAAAA/WOsZ359McmLlzh2QpILW2tbJrmw8xoAAAAAAACGbEzLr9baxUn+uMTh/ZOc0dk/I8kBY5kJAAAAAACA/rEyPPNrk9ba7UnS2T6hx3kAAAAAAABYRa3Z6wBDUVVHJDkiSbbYYosepwEAAEZTJZk5c2avYwAAALCKWRnKr99X1aattduratMkdyxrYGvtM0k+kyTTp09vYxUQAAAYey3JrpMn9zrGsF06b16vIwAAAKyWVoZlD7+V5LDO/mFJvtnDLAAAAAAAAKzCxrT8qqpZSS5LslVV3VpVr0tyUpK9q2pOkr07rwEAAAAAAGDIxnTZw9baIcs49fyxzAEAAAAAAEB/WhmWPQQAAAAAAIARofwCAAAAAACgb4zpsocAwNBUkpkzZ/Y6xgqZNHFijjn22F7HAAAAgFG3Rj24Sv8eP3ni2jn62BN6HQNWmPILAFZiLcmukyf3OsYKuXTevF5HAAAAgDHxcFsrJ245o9cxhm3mnBm9jgAjwrKHAAAAAAAA9A3lFwAAAAAAAH1D+QUAAAAAAEDfUH4BAAAAAADQN5RfAAAAAAAA9A3lFwAAAAAAAH1D+QUAAAAAAEDfUH4BAAAAAADQN5RfAAAAAAAA9A3lFwAAAAAAAH1D+QUAAAAAAEDfUH4BAAAAAADQN5RfAAAAAAAA9A3lFwAAAAAAAH1jzV4HAAAAAABGxhrjHszMmTN7HWPYJq+3do5+6wm9jgHAKk75BQAAAAB94uG/rJUTD57R6xjDNvPsGb2OAEAfsOwhAAAAAAAAfUP5BQAAAAAAQN9QfgEAAAAAANA3lF8AAAAAAAD0DeUXAAAAAAAAfUP5BQAAAAAAQN9Ys9cBoBuVZObMmb2OAQAAAAAArOSUX6wSWpJdJ0/udYxhu3TevF5HAAAAAACA1YJlDwEAAAAAAOgbyi8AAAAAAAD6hvILAAAAAACAvqH8AgAAAAAAoG8ovwAAAAAAAOgbyi8AAAAAAAD6xpq9DgAw2k778EmZd8/CXscYtsnrrZ2j33pCr2MAAKxS/AwIAACrL+UX0Pfm3bMwJx48o9cxhm3m2TN6HQEAYJXjZ0AAAFh9WfYQAAAAAACAvqH8AgAAAAAAoG8ovwAAAAAAAOgbyi8AAAAAAAD6hvILAAAAAACAvqH8AgAAAAAAoG+s2esAAEB/W6MezMyZM3sdY9gmT1w7Rx97Qq9jAIy5qlqlP79ZvZ16ygdz7/wFvY4BAKucVf1nwEmTJuWYY47pdQxWAsovAGBUPdzWyolbzuh1jGGbOWdGryMA9ERrLVtvvXWvYwzbjTfe2OsI9NC98xdk58ed3OsYw3b5n4/vdQQAVlN+BqRfWPYQAAAAAACAvqH8AgAAAAAAoG8ovwAAAAAAAOgbyi8AAAAAAAD6hvILAAAAAACAvrFmrwMAADB6TvvwSZl3z8Jexxi2yeutnaPfekKvYwAAAACrEOUXAEAfm3fPwpx48Ixexxi2mWfP6HUEAAAAYBVj2UMAAAAAAAD6hvILAAAAAACAvqH8AgAAAAAAoG8ovwAAAAAAAOgbyi8AAAAAAAD6hvILAAAAAACAvrFmrwMAAAAAAACsqDXGPZiZM2f2OsawTV5v7Rz91hN6HaMvKL8AAAAAAIBV3sN/WSsnHjyj1zGGbebZM3odoW9Y9hAAAAAAAIC+ofwCAAAAAACgbyi/AAAAAAAA6BvKLwAAAAAAAPqG8gsAAAAAAIC+ofwCAAAAAACgb6zZ6wAAACuzqsrMmTN7HQMAAACALim/AACWo7WWrbfeutcxhu3GG2/sdQQAAACAMWXZQwAAAAAAAPqG8gsAAAAAAIC+sdKUX1X14qr6ZVX9uqpO6HUeAAAAAAAAVj0rRflVVWsk+XiSfZI8I8khVfWM3qYCAAAAAABgVbNSlF9Jdkzy69ba/2ut/TnJV5Ls3+NMAAAAAAAArGJWlvJrsyS/GfT61s4xAAAAAAAA6Fq11nqdIVX190le1Fo7vPP6lUl2bK29eYlxRyQ5ovNyqyS/HNOg9LONkvyh1yEAesRnILC68vkHrK58/gGrM5+B0D+e3FrbeGkn1hzrJMtwa5LNB72ekuS2JQe11j6T5DNjFYrVR1Vd1Vqb3uscAL3gMxBYXfn8A1ZXPv+A1ZnPQFg9rCzLHl6ZZMuqekpVPS7JK5J8q8eZAAAAAAAAWMWsFDO/WmsPVdWbkvwgyRpJTm+t/aLHsQAAAAAAAFjFrBTlV5K01r6X5Hu9zsFqy3KawOrMZyCwuvL5B6yufP4BqzOfgbAaqNZarzMAAAAAAADAiFhZnvkFAAAAAAAAK0z5RV+qqvt6nQFgrA3+7Kuql1TVnKraopeZAEZKVbWq+tKg12tW1Z1V9Z3HuG6PxxozxBxPqqqvjdT9AEZaVU2tqhuWODajqo7r7K9ZVX+oqn9fYszsqvplVV3b+fJZB6x0hvsz4XLud2RVvWrkEgIri5XmmV8AwMioqucn+WiSF7bWbulifGVgKeS/jHo4gOGbn2SbqlqntfZAkr2T/HasQ7TWbkty0Fh/X4AR9MIkv0zyD1X1zvbI52Ec2lq7qke5ALoxoj8TttY+NWLJgJWKmV/0raqaWFUXVtXPqur6qtq/c3xqVd1UVWdU1XVV9bWqmtA59+6qurKqbqiqz3T+ILzoX8B9sKp+WlW/qqrdevneAJal8/n02ST/p7X2P51jx3Q+126oqqM7x6ZW1Y1V9YkkP0uyeVUd3/kMvK6qZg665zeq6uqq+kVVHdGDtwWwyHlJ/k9n/5AksxadqKodq+onVXVNZ7vVkhcva0xVXVJV2w8a999VNa2qnjdoBsQ1VTVp8IyKzv4lnZ83f1ZVu4zmmwcYIYck+b9Jbkmyc4+zAAzH8n4mXLeqTu/8bnvNoL8HfqSq3t3Zf1FVXVxV45aYGfu3VfXDqvp552e7p9aAkzu/T19fVQeP8XsFhkn5RT9bkOTA1tozk+yZ5EOLyqwkWyX5TGttWpJ7kryhc/xjrbVnt9a2SbJOkn0H3W/N1tqOSY5OcuJYvAGAIVo7yTeTHNBauylJqupZSV6TZKcM/HHj9VW1Q2f8VknObK3t0NnfMsmOSbZP8qyq2r0z7rWttWclmZ7kLVW14Ri9H4AlfSXJK6pqfJJpSa4YdO6mJLt3PtPeneQDS7l+WWM+l+TVSVJVT0uydmvtuiTHJXlja237JLsleWCJ+92RZO/Oz5sHJ/nIir5BgNFUVeskeX6S72Tgj8WHLDHkrEGl/8ljHhCgO8v7mfBfk/yotfbsDPw98OSqWjfJCUkOrqo9M/Az22uWsvrJWUk+3lrbLskuSW5P8rIM/I68XZIXdO636ai9M2DEKL/oZ5XkA1V1XZIfJtksySadc79prf13Z//LSXbt7O9ZVVdU1fVJ9kryd4Pu9/XO9uokU0czOMAwPZjkJ0leN+jYrknOba3Nb63dl4HPskWzV29urV3e2X9h5+uaDMwEe3oGyrBkoPD6eZLLk2w+6DjAmOoUUlMz8Mfa7y1xenKSr3ZmZX04j/w57rHGfDXJvlW1VpLXJvli5/h/Jzm1qt6S5PGttYeWuN9aST7b+dnxq0meMfx3BzBi2nKO75vkotba/Un+K8mBVbXGoDGHtta273wdP9pBAYbjMX4mfGGSE6rq2iSzk4xPskXnc+/1SS7IwD9+/5/BF1XVpCSbtdbO7XyPBZ1rdk0yq7X2cGvt90l+nOTZo/TWgBHkmV/0s0OTbJzkWa21B6tqbgb+Dy959C8DrfOvRT6RZHpr7TdVNWPQ+CRZ2Nk+HP/bAVZOf0nyD0l+2Hl+wwcy8A8BlmX+oP1K8u+ttU8PHlBVe2TgX7c9p7V2f1XNziM/GwHG2reSnJJkjySDZ6K+NwN/0D2wqqZm4I8dS1rqmM7n2wVJ9s/A5+j0zvGTquq7SV6S5PKqekEGVhdY5K1Jfp+Bfwk8bolzAL1yV5L1lzi2QZL/zcAfip/b+f04Gfgc3TMD/2AUYFWyrJ8JK8nLW2u/XMo122bgM/JJSzm3rN+dl/c7NbASM/OLfjY5yR2d4mvPJE8edG6LqnpOZ/+QJJfmr3/M/UNVTYwHmQOroM6/TNs3yaFV9bokFyc5oKomdJZ6ODDJJUu59AdJXtv5/EtVbVZVT8jAZ+mfOn8Yfno8FwLovdOTvKe1dv0Sxyfnrw87f/Uyrl3emM9lYAmcK1trf0ySqnpqa+361toHk1yVgVmxS97v9s6SOa9MskYAeqwz2//2qnp+klTVBklenOTaDMxg2KK1NrW1NjXJG/PopQ8BVgXL+pnwB0nevOjRJ4uW/a+qJyc5NskOSfapqp0GX9RauyfJrVV1QGf82lU1IQO/Ux9cVWtU1cZJdk/y09F7W8BIUX7Rd6pqzQzM0joryfSquioDs8BuGjTsxiSHdZZE3CDJJ1trdyf5bJLrk3wjyZVjGBtgxHT+aPviJP+WgWUKv5iBH86vSPK51to1S7nm/CT/meSyzvJdX0syKcn3k6zZ+bx8bwaWPgTomdbara21/7uUU/+R5N+r6r+z7BJqmWNaa1dn4FmwXxh0+OjOw81/noHnfZ23xP0+kYGfKS9P8rQ8ckYtQC+9Ksm/dZb9+lGSmRn4g++PWmsLB437ZpL9qmrtzuvBz/wyGwxYaS3nZ8L3ZmBp6us6S12/t1OEfT7Jca212zLwqIDPdVaBGuyVGVj2/7oMPFLgiUnOTXJdkp9n4PP0ba21343KmwJGVLW2rKWgYdVUVdsl+WxrbcdlnJ+a5DuttW3GNBgAACutqnpSBpZBfPpSHn4OAADAKsTML/pKVR2ZZFYGZjsAAMBjqqpXZWB27L8qvgAAAFZ9Zn4BAAAAAADQN8z8AgAAAAAAoG8ovwAAAAAAAOgbyi8AAAAAAAD6hvILAABgBVTVLlX1laq6taoWVtXtVXVRVR1ZVWusBPlmdL4O6HUWAACAsVCttV5nAAAAWCVV1buSzExSyxiyfmvt7rFL9GhVteiXvjNaa6/uZRYAAICxYOYXAADAMFTVy5O8JwPF1x1JXp5k3SSPT7Jfkp/0LNwKqKrHVZXfFQEAgFWWX2gAAACG592D9g9rrX29tXZ/a21ea+3bSXZNMi9JquqlVfXjqrqnqhZU1fVVddzgZRGr6otV1QbN1Fp0vHW+vjjo2NzOsdlVdVBV/aKq7q+qK6rqWZ0xeyxxr8MG3evVS967qo6tqluSLEjyzs7xh6tqi0Hfd8tB1xw9Qv8dAQAARpTyCwAAYIiq6olJpnVe/rK19v0lx7SOqvqXJN9KsnuSSUnWTrJNkpOT/OcKRtkhyTlJnpFknSQ7Jjm3qtYa4n32S3JKks0zMJPts0kezMDvjK8eNO7lne1DSWYNOzUAAMAoUn4BAAAM3ZMH7d+0rEFVNSnJBzsvf5tkuySbJPlR59g/VNUeK5BjvST/lmT9JF/sHNs8yU6ttdmttcHPIjujtVadry8+8jZZP8k7k0xOsnWSPyY5t3Pu1VW16D6Lyq/zW2u/X4HcAAAAo0b5BQAAMHp2ycBsryT5bGvtutbaHRl4VtgiL1yB+/8uyUmttbszMANskc2HeJ9ftNb+vbV2T2vtptbag0k+2Tn3lCR7dJY/nN459qUVyAwAADCqlF8AAABDd/Og/a2WM26jQfu/GbR/66D9jZd18eBngi3D/7TW/tLZXzDo+NqPcd2SbljyQGttdpIbOy9fm+Rlnf17knxziPcHAAAYM8ovAACAIWqt/S7JdZ2XT6+qR83e6iwV+IdBh6YsY3/RmIWDrh3f2Z36GFEeGhzrMcYuz4JlHP9UZ/vyJK/q7H+ttfbACnwvAACAUaX8AgAAGJ6Zg/bPrKoDqmpCVa1XVS9N8pMMzJy6rzPm9VW1bVVtnIHndC1yfmc7eDbYi6pqXAaew7Wi/tTZ/m1VrTPEa89Icn+SdZLs0Dl25ghkAgAAGDXKLwAAgGForX09ybs7LzdJcm6S+UnmJflWkp0zsETgOzpjpmRgttgdSV7QOfa11tpFnf2v56+zt87tXHvICES9srN9bpL7q6pV1d92c2FrbV6SWYMO3Zzk4hHIBAAAMGqUXwAAAMPUWntvkl2TnJPktiQPJvl9kh8neUOSe1trH0tyYJJLMjALbGGS/y/J2zOo3Gqt/SIDSwvO6Yy5OsnuIxDzLUlmJ7l3mNd/ctD+l1trK7K8IgAAwKgrv7cAAACwLFW1b5JvJ/lLkq1aa7/ucSQAAIDlMvMLAACAR6mqA6tqTpJvdA59VfEFAACsCtbsdQAAAABWSpOT/G0Glmo8P8mRvY0DAADQHcseAgAAAAAA0DcsewgAAAAAAEDfUH4BAAAAAADQN5RfAAAAAAAA9A3lFwAAAAAAAH1D+QUAAAAAAEDfUH4BAAAAAADQN/5/vZXLGJTOWoMAAAAASUVORK5CYII=\n",
      "text/plain": [
       "<Figure size 2160x576 with 1 Axes>"
=======
      "image/png": "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\n",
      "text/plain": [
       "<Figure size 432x288 with 1 Axes>"
>>>>>>> 92834599919a7013012a7a9a56191db85188f252
      ]
     },
     "metadata": {
      "needs_background": "light"
     },
     "output_type": "display_data"
    }
   ],
   "source": [
<<<<<<< HEAD
    "# # set width of bar\n",
    "barWidth = 0.15\n",
    "fig = plt.subplots(figsize =(30, 8))\n",
    "# Make the Bad Word Count plot\n",
=======
    "# Make the plot\n",
>>>>>>> 92834599919a7013012a7a9a56191db85188f252
    "plt.bar(br1, data['byArticleWordCountB'][0], color ='darkgoldenrod', width = barWidth,\n",
    "        edgecolor ='grey', label ='Japan')\n",
    "plt.bar(br2, data['byArticleWordCountB'][1], color ='rosybrown', width = barWidth,\n",
    "        edgecolor ='grey', label ='Korea')\n",
    "plt.bar(br3, data['byArticleWordCountB'][2], color ='orange', width = barWidth,\n",
    "        edgecolor ='grey', label ='Malaysia')\n",
    "plt.bar(br4, data['byArticleWordCountB'][3], color ='darkgrey', width = barWidth,\n",
    "        edgecolor ='grey', label ='UAE')\n",
    "plt.bar(br5, data['byArticleWordCountB'][4], color ='gold', width = barWidth,\n",
<<<<<<< HEAD
    "        edgecolor ='grey', label ='Mexico')\n",
=======
    "        edgecolor ='grey', label ='USA')\n",
>>>>>>> 92834599919a7013012a7a9a56191db85188f252
    " \n",
    "# Adding Xticks\n",
    "plt.xlabel('Country', fontweight ='bold', fontsize = 15)\n",
    "plt.ylabel('Bad Words Count', fontweight ='bold', fontsize = 15)\n",
<<<<<<< HEAD
    "plt.xticks([r + barWidth for r in range(len(br1))],\n",
    "        ['Japan', 'Korea', 'Malaysia', 'UAE', 'Mexico'])\n",
=======
    "plt.xticks([r + barWidth for r in range(len(IT))],\n",
    "        ['Japan', 'Korea', 'Malaysia', 'UAE', 'USA'])\n",
>>>>>>> 92834599919a7013012a7a9a56191db85188f252
    " \n",
    "plt.legend()\n",
    "plt.show()"
   ]
  },
  {
   "cell_type": "markdown",
   "id": "ff43899c",
   "metadata": {},
   "source": [
    "### Conclusion"
   ]
  },
  {
   "cell_type": "code",
<<<<<<< HEAD
   "execution_count": 12,
=======
   "execution_count": 368,
>>>>>>> 92834599919a7013012a7a9a56191db85188f252
   "id": "c3341d04",
   "metadata": {},
   "outputs": [],
   "source": [
    "# 1. By determining the average word count ratio for each country\n",
    "# word count / good word count (WCGW) ratios and its average (has 10 multiplier : byArticleWordCountGood/wordCount * 10 )\n",
    "WCGW = [[data['byArticleWordCountG'][i][j]/wordCount[i][j] * 10 if data['byArticleWordCountG'][i][j] != 0 else 0 for j in range(number_of_articles)] for i in range(number_of_countries)]\n",
    "WCBW = [[data['byArticleWordCountB'][i][j]/wordCount[i][j] * 10 if data['byArticleWordCountB'][i][j] != 0 else 0 for j in range(number_of_articles)] for i in range(number_of_countries)]\n",
    "aveWCGW = [sum(WCGW[i])/number_of_articles for i in range(5)]\n",
    "aveWCBW = [sum(WCBW[i])/number_of_articles for i in range(5)]"
   ]
  },
  {
   "cell_type": "code",
<<<<<<< HEAD
   "execution_count": 18,
=======
   "execution_count": 369,
>>>>>>> 92834599919a7013012a7a9a56191db85188f252
   "id": "e5c65c6b",
   "metadata": {},
   "outputs": [
    {
     "data": {
<<<<<<< HEAD
      "image/png": "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\n",
=======
      "image/png": "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\n",
>>>>>>> 92834599919a7013012a7a9a56191db85188f252
      "text/plain": [
       "<Figure size 1080x360 with 2 Axes>"
      ]
     },
     "metadata": {
      "needs_background": "light"
     },
     "output_type": "display_data"
    }
   ],
   "source": [
    "plt.figure(figsize=(15, 5))\n",
    "\n",
<<<<<<< HEAD
    "plt.suptitle('Word Count Ratio')\n",
=======
    "plt.suptitle('Total Word Count')\n",
>>>>>>> 92834599919a7013012a7a9a56191db85188f252
    "plt.subplot(131)\n",
    "plt.bar(countryNames, aveWCGW, color = 'b')\n",
    "plt.subplot(132)\n",
    "plt.bar(countryNames, aveWCBW, color='r')\n",
    "\n",
    "plt.show()"
   ]
  },
  {
   "cell_type": "code",
<<<<<<< HEAD
   "execution_count": 14,
=======
   "execution_count": 370,
>>>>>>> 92834599919a7013012a7a9a56191db85188f252
   "id": "727693ca",
   "metadata": {},
   "outputs": [
    {
     "data": {
      "text/plain": [
       "0.0969409737182249"
      ]
     },
<<<<<<< HEAD
     "execution_count": 14,
=======
     "execution_count": 370,
>>>>>>> 92834599919a7013012a7a9a56191db85188f252
     "metadata": {},
     "output_type": "execute_result"
    }
   ],
   "source": [
    "WCGW[0][1]"
   ]
  },
  {
   "cell_type": "code",
<<<<<<< HEAD
   "execution_count": 15,
=======
   "execution_count": 371,
>>>>>>> 92834599919a7013012a7a9a56191db85188f252
   "id": "a9d0e767",
   "metadata": {},
   "outputs": [
    {
     "data": {
      "text/plain": [
       "0.05170185264971995"
      ]
     },
<<<<<<< HEAD
     "execution_count": 15,
=======
     "execution_count": 371,
>>>>>>> 92834599919a7013012a7a9a56191db85188f252
     "metadata": {},
     "output_type": "execute_result"
    }
   ],
   "source": [
    "WCBW[0][1] "
   ]
  },
  {
   "cell_type": "markdown",
   "id": "0203a4bd",
   "metadata": {},
   "source": [
    "##### based on this graph,UAE might have a better market sentiment due to having the highest good word to word count ratio and the lowest bad word to word count ratio."
   ]
  },
  {
   "cell_type": "code",
<<<<<<< HEAD
   "execution_count": 16,
=======
   "execution_count": 372,
>>>>>>> 92834599919a7013012a7a9a56191db85188f252
   "id": "af7ae680",
   "metadata": {},
   "outputs": [
    {
     "data": {
      "text/plain": [
       "[[True, True, True, True, True],\n",
       " [True, True, True, True, True],\n",
       " [True, True, False, True, True],\n",
       " [True, True, True, True, True],\n",
<<<<<<< HEAD
       " [True, True, True, True, True]]"
      ]
     },
     "execution_count": 16,
=======
       " [False, False, False, False, False]]"
      ]
     },
     "execution_count": 372,
>>>>>>> 92834599919a7013012a7a9a56191db85188f252
     "metadata": {},
     "output_type": "execute_result"
    }
   ],
   "source": [
    "# 2. By determining the sentiment given by an article of a country\n",
    "articleSentiments = [[True if WCGW[i][j] > WCBW[i][j] else False for j in range(number_of_articles)] for i in range(number_of_countries)]\n",
    "articleSentiments"
   ]
  },
  {
   "cell_type": "code",
<<<<<<< HEAD
   "execution_count": 17,
=======
   "execution_count": null,
>>>>>>> 92834599919a7013012a7a9a56191db85188f252
   "id": "ec535484",
   "metadata": {},
   "outputs": [],
   "source": [
    "# every article in each country giving a positive sentiment to the public\n"
   ]
  }
 ],
 "metadata": {
  "kernelspec": {
   "display_name": "Python 3",
   "language": "python",
   "name": "python3"
  },
  "language_info": {
   "codemirror_mode": {
    "name": "ipython",
    "version": 3
   },
   "file_extension": ".py",
   "mimetype": "text/x-python",
   "name": "python",
   "nbconvert_exporter": "python",
   "pygments_lexer": "ipython3",
   "version": "3.8.8"
  }
 },
 "nbformat": 4,
 "nbformat_minor": 5
}
